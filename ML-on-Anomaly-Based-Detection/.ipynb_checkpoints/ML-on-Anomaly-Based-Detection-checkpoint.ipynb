{
 "cells": [
  {
   "cell_type": "markdown",
   "metadata": {},
   "source": [
    "## ML on Anomaly-Based Detection\n",
    "\n",
    "Code reference: Anamoly Detection with 82% accuracy on Test Data by AARYAN VERMA:\n",
    "\n",
    "https://www.kaggle.com/code/aaryanverma/anamoly-detection-with-82-accuracy-on-test-data"
   ]
  },
  {
   "cell_type": "markdown",
   "metadata": {},
   "source": [
    "### Intrusion Dectector Learning\n",
    "\n",
    "Software to detect network intrusions protects a computer network from unauthorized users, including perhaps insiders. The intrusion detector learning task is to build a predictive model (i.e. a classifier) capable of distinguishing between **`bad`** connections, called intrusions or attacks, and **`good`** normal connections.\n",
    "\n",
    "The 1998 DARPA Intrusion Detection Evaluation Program was prepared and managed by MIT Lincoln Labs. The objective was to survey and evaluate research in intrusion detection. A standard set of data to be audited, which includes a wide variety of intrusions simulated in a military network environment, was provided. The 1999 KDD intrusion detection contest uses a version of this dataset.\n",
    "\n",
    "Lincoln Labs set up an environment to acquire nine weeks of raw TCP dump data for a local-area network (LAN) simulating a typical U.S. Air Force LAN. They operated the LAN as if it were a true Air Force environment, but peppered it with multiple attacks.\n",
    "\n",
    "The raw training data was about four gigabytes of compressed binary TCP dump data from seven weeks of network traffic. This was processed into about five million connection records. Similarly, the two weeks of test data yielded around two million connection records.\n",
    "\n",
    "A connection is a sequence of TCP packets starting and ending at some well defined times, between which data flows to and from a source IP address to a target IP address under some well defined protocol. Each connection is labeled as either normal, or as an attack, with exactly one specific attack type.  Each connection record consists of about 100 bytes.\n",
    "\n",
    "Attacks fall into four main categories:\n",
    "\n",
    "- **DOS**: Denial-of-Service, e.g. **syn flood**\n",
    "- **R2L**: Unauthorized access from a remote machine, e.g. **guessing password**\n",
    "- **U2R**: Unauthorized access to local superuser (root) privileges, e.g., various **`buffer overflow` attacks**\n",
    "- **probing**: Surveillance and other probing, e.g., **port scanning**"
   ]
  },
  {
   "cell_type": "markdown",
   "metadata": {},
   "source": [
    "### About the Dataset\n",
    "\n",
    "http://kdd.ics.uci.edu/databases/kddcup99/kddcup99.html\n",
    "\n",
    "This is the data set used for The Third International Knowledge Discovery and Data Mining Tools Competition, which was held in conjunction with KDD-99 The Fifth International Conference on Knowledge Discovery and Data Mining. The competition task was to build a network intrusion detector, a predictive model capable of distinguishing between **`bad`** connections, called intrusions or attacks, and **`good`** normal connections. This database contains a standard set of data to be audited, which includes a wide variety of intrusions simulated in a military network environment."
   ]
  },
  {
   "cell_type": "markdown",
   "metadata": {},
   "source": [
    "### Basic Setup"
   ]
  },
  {
   "cell_type": "code",
   "execution_count": 1,
   "metadata": {
    "_cell_guid": "b1076dfc-b9ad-4769-8c92-a6c4dae69d19",
    "_uuid": "8f2839f25d086af736a60e9eeb907d3b93b6e0e5",
    "execution": {
     "iopub.execute_input": "2020-11-19T19:42:55.377771Z",
     "iopub.status.busy": "2020-11-19T19:42:55.376984Z",
     "iopub.status.idle": "2020-11-19T19:42:55.384661Z",
     "shell.execute_reply": "2020-11-19T19:42:55.383984Z"
    },
    "papermill": {
     "duration": 0.046155,
     "end_time": "2020-11-19T19:42:55.384798",
     "exception": false,
     "start_time": "2020-11-19T19:42:55.338643",
     "status": "completed"
    },
    "tags": []
   },
   "outputs": [
    {
     "name": "stdout",
     "output_type": "stream",
     "text": [
      "./data/Test.txt\n",
      "./data/Train.txt\n"
     ]
    }
   ],
   "source": [
    "import numpy as np # linear algebra\n",
    "import pandas as pd # data processing, CSV file I/O (e.g. pd.read_csv)\n",
    "\n",
    "import numpy as np\n",
    "import pandas as pd\n",
    "import tensorflow as tf\n",
    "import matplotlib.pyplot as plt\n",
    "import seaborn as sns\n",
    "import time\n",
    "import multiprocessing\n",
    "\n",
    "from sklearn.linear_model import LogisticRegression\n",
    "from sklearn.ensemble import RandomForestClassifier\n",
    "from collections import Counter\n",
    "from sklearn.preprocessing import LabelEncoder, StandardScaler\n",
    "\n",
    "from sklearn.model_selection import train_test_split\n",
    "from imblearn.over_sampling import SMOTE, ADASYN\n",
    "from sklearn import metrics\n",
    "from sklearn.metrics import confusion_matrix, r2_score, mean_squared_error\n",
    "from sklearn.metrics import precision_score, recall_score, f1_score, roc_auc_score\n",
    "from sklearn.metrics import accuracy_score, classification_report, precision_recall_curve\n",
    "from sklearn.metrics import ConfusionMatrixDisplay\n",
    "\n",
    "import warnings\n",
    "warnings.filterwarnings(\"ignore\")\n",
    "\n",
    "# setup input and outtput pathes\n",
    "import os\n",
    "base_path = os.environ.get(\"BASE_PATH\",'./data/')\n",
    "data_path = os.path.join(base_path)\n",
    "result_path = \"result/\"\n",
    "os.makedirs(result_path, exist_ok=True)\n",
    "\n",
    "for dirname, _, filenames in os.walk(data_path):\n",
    "    for filename in filenames:\n",
    "        print(os.path.join(dirname, filename))"
   ]
  },
  {
   "cell_type": "markdown",
   "metadata": {},
   "source": [
    "### Name the Features\n",
    "\n",
    "#### Table 1: Basic features of individual TCP connections.\n",
    "\n",
    "| _feature name_   | _description_                                                  | _type_       |\n",
    "| -------------- | ------------------------------------------------------------ | ---------- |\n",
    "| duration       | length (number of seconds) of the connection                 | continuous |\n",
    "| protocol_type  | type of the protocol, e.g. tcp, udp, etc.                    | discrete   |\n",
    "| service        | network service on the destination, e.g., http, telnet, etc. | discrete   |\n",
    "| src_bytes      | number of data bytes from source to destination              | continuous |\n",
    "| dst_bytes      | number of data bytes from destination to source              | continuous |\n",
    "| flag           | normal or error status of the connection                     | discrete   |\n",
    "| land           | 1 if connection is from/to the same host/port; 0 otherwise   | discrete   |\n",
    "| wrong_fragment | number of \\`\\`wrong'' fragments                              | continuous |\n",
    "| urgent         | number of urgent packets                                     | continuous |\n",
    "\n",
    "#### Table 2: Content features within a connection suggested by domain knowledge.\n",
    "\n",
    "| _feature name_     | _description_                                             | _type_     |\n",
    "| ------------------ | --------------------------------------------------------- | ---------- |\n",
    "| hot                | number of \\`\\`hot'' indicators                            | continuous |\n",
    "| num_failed_logins  | number of failed login attempts                           | continuous |\n",
    "| logged_in          | 1 if successfully logged in; 0 otherwise                  | discrete   |\n",
    "| num_compromised    | number of \\`\\`compromised'' conditions                    | continuous |\n",
    "| root_shell         | 1 if root shell is obtained; 0 otherwise                  | discrete   |\n",
    "| su_attempted       | 1 if \\`\\`su root'' command attempted; 0 otherwise         | discrete   |\n",
    "| num_root           | number of \\`\\`root'' accesses                             | continuous |\n",
    "| num_file_creations | number of file creation operations                        | continuous |\n",
    "| num_shells         | number of shell prompts                                   | continuous |\n",
    "| num_access_files   | number of operations on access control files              | continuous |\n",
    "| num_outbound_cmds  | number of outbound commands in an ftp session             | continuous |\n",
    "| is_hot_login       | 1 if the login belongs to the \\`\\`hot'' list; 0 otherwise | discrete   |\n",
    "| is_guest_login     | 1 if the login is a \\`\\`guest''login; 0 otherwise         | discrete   |\n",
    "\n",
    "#### Table 3: Traffic features computed using a two-second time window.\n",
    "| _feature name_     | _description_                                                                               | _type_     |\n",
    "| ------------------ | ------------------------------------------------------------------------------------------- | ---------- |\n",
    "| count              | number of connections to the same host as the current connection in the past two seconds    | continuous |\n",
    "|                    | _Note: The following  features refer to these same-host connections._                       |            |\n",
    "| serror_rate        | % of connections that have \\`\\`SYN'' errors                                                 | continuous |\n",
    "| rerror_rate        | % of connections that have \\`\\`REJ'' errors                                                 | continuous |\n",
    "| same_srv_rate      | % of connections to the same service                                                        | continuous |\n",
    "| diff_srv_rate      | % of connections to different services                                                      | continuous |\n",
    "| srv_count          | number of connections to the same service as the current connection in the past two seconds | continuous |\n",
    "|                    | _Note: The following features refer to these same-service connections._                     |            |\n",
    "| srv_serror_rate    | % of connections that have \\`\\`SYN'' errors                                                 | continuous |\n",
    "| srv_rerror_rate    | % of connections that have \\`\\`REJ'' errors                                                 | continuous |\n",
    "| srv_diff_host_rate | % of connections to different hosts                                                         | continuous |"
   ]
  },
  {
   "cell_type": "code",
   "execution_count": 2,
   "metadata": {
    "execution": {
     "iopub.execute_input": "2020-11-19T19:43:02.120974Z",
     "iopub.status.busy": "2020-11-19T19:43:02.120099Z",
     "iopub.status.idle": "2020-11-19T19:43:02.676072Z",
     "shell.execute_reply": "2020-11-19T19:43:02.675585Z"
    },
    "papermill": {
     "duration": 0.595646,
     "end_time": "2020-11-19T19:43:02.676218",
     "exception": false,
     "start_time": "2020-11-19T19:43:02.080572",
     "status": "completed"
    },
    "tags": []
   },
   "outputs": [
    {
     "data": {
      "text/html": [
       "<div>\n",
       "<style scoped>\n",
       "    .dataframe tbody tr th:only-of-type {\n",
       "        vertical-align: middle;\n",
       "    }\n",
       "\n",
       "    .dataframe tbody tr th {\n",
       "        vertical-align: top;\n",
       "    }\n",
       "\n",
       "    .dataframe thead th {\n",
       "        text-align: right;\n",
       "    }\n",
       "</style>\n",
       "<table border=\"1\" class=\"dataframe\">\n",
       "  <thead>\n",
       "    <tr style=\"text-align: right;\">\n",
       "      <th></th>\n",
       "      <th>duration</th>\n",
       "      <th>protocoltype</th>\n",
       "      <th>service</th>\n",
       "      <th>flag</th>\n",
       "      <th>srcbytes</th>\n",
       "      <th>dstbytes</th>\n",
       "      <th>land</th>\n",
       "      <th>wrongfragment</th>\n",
       "      <th>urgent</th>\n",
       "      <th>hot</th>\n",
       "      <th>...</th>\n",
       "      <th>dsthostsamesrvrate</th>\n",
       "      <th>dsthostdiffsrvrate</th>\n",
       "      <th>dsthostsamesrcportrate</th>\n",
       "      <th>dsthostsrvdiffhostrate</th>\n",
       "      <th>dsthostserrorrate</th>\n",
       "      <th>dsthostsrvserrorrate</th>\n",
       "      <th>dsthostrerrorrate</th>\n",
       "      <th>dsthostsrvrerrorrate</th>\n",
       "      <th>attack</th>\n",
       "      <th>lastflag</th>\n",
       "    </tr>\n",
       "  </thead>\n",
       "  <tbody>\n",
       "    <tr>\n",
       "      <th>0</th>\n",
       "      <td>0</td>\n",
       "      <td>tcp</td>\n",
       "      <td>ftp_data</td>\n",
       "      <td>SF</td>\n",
       "      <td>491</td>\n",
       "      <td>0</td>\n",
       "      <td>0</td>\n",
       "      <td>0</td>\n",
       "      <td>0</td>\n",
       "      <td>0</td>\n",
       "      <td>...</td>\n",
       "      <td>0.17</td>\n",
       "      <td>0.03</td>\n",
       "      <td>0.17</td>\n",
       "      <td>0.00</td>\n",
       "      <td>0.00</td>\n",
       "      <td>0.00</td>\n",
       "      <td>0.05</td>\n",
       "      <td>0.00</td>\n",
       "      <td>normal</td>\n",
       "      <td>20</td>\n",
       "    </tr>\n",
       "    <tr>\n",
       "      <th>1</th>\n",
       "      <td>0</td>\n",
       "      <td>udp</td>\n",
       "      <td>other</td>\n",
       "      <td>SF</td>\n",
       "      <td>146</td>\n",
       "      <td>0</td>\n",
       "      <td>0</td>\n",
       "      <td>0</td>\n",
       "      <td>0</td>\n",
       "      <td>0</td>\n",
       "      <td>...</td>\n",
       "      <td>0.00</td>\n",
       "      <td>0.60</td>\n",
       "      <td>0.88</td>\n",
       "      <td>0.00</td>\n",
       "      <td>0.00</td>\n",
       "      <td>0.00</td>\n",
       "      <td>0.00</td>\n",
       "      <td>0.00</td>\n",
       "      <td>normal</td>\n",
       "      <td>15</td>\n",
       "    </tr>\n",
       "    <tr>\n",
       "      <th>2</th>\n",
       "      <td>0</td>\n",
       "      <td>tcp</td>\n",
       "      <td>private</td>\n",
       "      <td>S0</td>\n",
       "      <td>0</td>\n",
       "      <td>0</td>\n",
       "      <td>0</td>\n",
       "      <td>0</td>\n",
       "      <td>0</td>\n",
       "      <td>0</td>\n",
       "      <td>...</td>\n",
       "      <td>0.10</td>\n",
       "      <td>0.05</td>\n",
       "      <td>0.00</td>\n",
       "      <td>0.00</td>\n",
       "      <td>1.00</td>\n",
       "      <td>1.00</td>\n",
       "      <td>0.00</td>\n",
       "      <td>0.00</td>\n",
       "      <td>neptune</td>\n",
       "      <td>19</td>\n",
       "    </tr>\n",
       "    <tr>\n",
       "      <th>3</th>\n",
       "      <td>0</td>\n",
       "      <td>tcp</td>\n",
       "      <td>http</td>\n",
       "      <td>SF</td>\n",
       "      <td>232</td>\n",
       "      <td>8153</td>\n",
       "      <td>0</td>\n",
       "      <td>0</td>\n",
       "      <td>0</td>\n",
       "      <td>0</td>\n",
       "      <td>...</td>\n",
       "      <td>1.00</td>\n",
       "      <td>0.00</td>\n",
       "      <td>0.03</td>\n",
       "      <td>0.04</td>\n",
       "      <td>0.03</td>\n",
       "      <td>0.01</td>\n",
       "      <td>0.00</td>\n",
       "      <td>0.01</td>\n",
       "      <td>normal</td>\n",
       "      <td>21</td>\n",
       "    </tr>\n",
       "    <tr>\n",
       "      <th>4</th>\n",
       "      <td>0</td>\n",
       "      <td>tcp</td>\n",
       "      <td>http</td>\n",
       "      <td>SF</td>\n",
       "      <td>199</td>\n",
       "      <td>420</td>\n",
       "      <td>0</td>\n",
       "      <td>0</td>\n",
       "      <td>0</td>\n",
       "      <td>0</td>\n",
       "      <td>...</td>\n",
       "      <td>1.00</td>\n",
       "      <td>0.00</td>\n",
       "      <td>0.00</td>\n",
       "      <td>0.00</td>\n",
       "      <td>0.00</td>\n",
       "      <td>0.00</td>\n",
       "      <td>0.00</td>\n",
       "      <td>0.00</td>\n",
       "      <td>normal</td>\n",
       "      <td>21</td>\n",
       "    </tr>\n",
       "  </tbody>\n",
       "</table>\n",
       "<p>5 rows × 43 columns</p>\n",
       "</div>"
      ],
      "text/plain": [
       "   duration protocoltype   service flag  srcbytes  dstbytes  land  \\\n",
       "0         0          tcp  ftp_data   SF       491         0     0   \n",
       "1         0          udp     other   SF       146         0     0   \n",
       "2         0          tcp   private   S0         0         0     0   \n",
       "3         0          tcp      http   SF       232      8153     0   \n",
       "4         0          tcp      http   SF       199       420     0   \n",
       "\n",
       "   wrongfragment  urgent  hot  ...  dsthostsamesrvrate  dsthostdiffsrvrate  \\\n",
       "0              0       0    0  ...                0.17                0.03   \n",
       "1              0       0    0  ...                0.00                0.60   \n",
       "2              0       0    0  ...                0.10                0.05   \n",
       "3              0       0    0  ...                1.00                0.00   \n",
       "4              0       0    0  ...                1.00                0.00   \n",
       "\n",
       "   dsthostsamesrcportrate  dsthostsrvdiffhostrate  dsthostserrorrate  \\\n",
       "0                    0.17                    0.00               0.00   \n",
       "1                    0.88                    0.00               0.00   \n",
       "2                    0.00                    0.00               1.00   \n",
       "3                    0.03                    0.04               0.03   \n",
       "4                    0.00                    0.00               0.00   \n",
       "\n",
       "   dsthostsrvserrorrate  dsthostrerrorrate  dsthostsrvrerrorrate   attack  \\\n",
       "0                  0.00               0.05                  0.00   normal   \n",
       "1                  0.00               0.00                  0.00   normal   \n",
       "2                  1.00               0.00                  0.00  neptune   \n",
       "3                  0.01               0.00                  0.01   normal   \n",
       "4                  0.00               0.00                  0.00   normal   \n",
       "\n",
       "   lastflag  \n",
       "0        20  \n",
       "1        15  \n",
       "2        19  \n",
       "3        21  \n",
       "4        21  \n",
       "\n",
       "[5 rows x 43 columns]"
      ]
     },
     "execution_count": 2,
     "metadata": {},
     "output_type": "execute_result"
    }
   ],
   "source": [
    "df = pd.read_csv(data_path+\"Train.txt\",\n",
    "                 sep=\",\",\n",
    "                 names=[\"duration\",\"protocoltype\",\"service\",\"flag\",\"srcbytes\",\n",
    "                        \"dstbytes\",\"land\", \"wrongfragment\",\"urgent\",\"hot\",\"numfailedlogins\",\n",
    "                        \"loggedin\", \"numcompromised\",\"rootshell\",\"suattempted\",\"numroot\",\n",
    "                        \"numfilecreations\", \"numshells\",\"numaccessfiles\",\"numoutboundcmds\",\n",
    "                        \"ishostlogin\",\"isguestlogin\",\"count\",\"srvcount\",\"serrorrate\", \n",
    "                        \"srvserrorrate\",\"rerrorrate\",\"srvrerrorrate\",\"samesrvrate\", \n",
    "                        \"diffsrvrate\", \"srvdiffhostrate\",\"dsthostcount\",\"dsthostsrvcount\",\n",
    "                        \"dsthostsamesrvrate\", \"dsthostdiffsrvrate\",\"dsthostsamesrcportrate\",\n",
    "                        \"dsthostsrvdiffhostrate\",\"dsthostserrorrate\",\"dsthostsrvserrorrate\",\n",
    "                        \"dsthostrerrorrate\",\"dsthostsrvrerrorrate\",\"attack\", \"lastflag\"])\n",
    "df.head()"
   ]
  },
  {
   "cell_type": "code",
   "execution_count": 3,
   "metadata": {
    "execution": {
     "iopub.execute_input": "2020-11-19T19:43:02.743014Z",
     "iopub.status.busy": "2020-11-19T19:43:02.742432Z",
     "iopub.status.idle": "2020-11-19T19:43:02.748563Z",
     "shell.execute_reply": "2020-11-19T19:43:02.748067Z"
    },
    "papermill": {
     "duration": 0.040813,
     "end_time": "2020-11-19T19:43:02.748656",
     "exception": false,
     "start_time": "2020-11-19T19:43:02.707843",
     "status": "completed"
    },
    "tags": []
   },
   "outputs": [
    {
     "data": {
      "text/plain": [
       "(125973, 43)"
      ]
     },
     "execution_count": 3,
     "metadata": {},
     "output_type": "execute_result"
    }
   ],
   "source": [
    "df.shape"
   ]
  },
  {
   "cell_type": "code",
   "execution_count": 4,
   "metadata": {
    "execution": {
     "iopub.execute_input": "2020-11-19T19:43:02.839431Z",
     "iopub.status.busy": "2020-11-19T19:43:02.838315Z",
     "iopub.status.idle": "2020-11-19T19:43:03.040042Z",
     "shell.execute_reply": "2020-11-19T19:43:03.040547Z"
    },
    "papermill": {
     "duration": 0.260857,
     "end_time": "2020-11-19T19:43:03.040679",
     "exception": false,
     "start_time": "2020-11-19T19:43:02.779822",
     "status": "completed"
    },
    "tags": []
   },
   "outputs": [
    {
     "data": {
      "text/html": [
       "<div>\n",
       "<style scoped>\n",
       "    .dataframe tbody tr th:only-of-type {\n",
       "        vertical-align: middle;\n",
       "    }\n",
       "\n",
       "    .dataframe tbody tr th {\n",
       "        vertical-align: top;\n",
       "    }\n",
       "\n",
       "    .dataframe thead th {\n",
       "        text-align: right;\n",
       "    }\n",
       "</style>\n",
       "<table border=\"1\" class=\"dataframe\">\n",
       "  <thead>\n",
       "    <tr style=\"text-align: right;\">\n",
       "      <th></th>\n",
       "      <th>duration</th>\n",
       "      <th>srcbytes</th>\n",
       "      <th>dstbytes</th>\n",
       "      <th>land</th>\n",
       "      <th>wrongfragment</th>\n",
       "      <th>urgent</th>\n",
       "      <th>hot</th>\n",
       "      <th>numfailedlogins</th>\n",
       "      <th>loggedin</th>\n",
       "      <th>numcompromised</th>\n",
       "      <th>...</th>\n",
       "      <th>dsthostsrvcount</th>\n",
       "      <th>dsthostsamesrvrate</th>\n",
       "      <th>dsthostdiffsrvrate</th>\n",
       "      <th>dsthostsamesrcportrate</th>\n",
       "      <th>dsthostsrvdiffhostrate</th>\n",
       "      <th>dsthostserrorrate</th>\n",
       "      <th>dsthostsrvserrorrate</th>\n",
       "      <th>dsthostrerrorrate</th>\n",
       "      <th>dsthostsrvrerrorrate</th>\n",
       "      <th>lastflag</th>\n",
       "    </tr>\n",
       "  </thead>\n",
       "  <tbody>\n",
       "    <tr>\n",
       "      <th>count</th>\n",
       "      <td>125973.00000</td>\n",
       "      <td>1.259730e+05</td>\n",
       "      <td>1.259730e+05</td>\n",
       "      <td>125973.000000</td>\n",
       "      <td>125973.000000</td>\n",
       "      <td>125973.000000</td>\n",
       "      <td>125973.000000</td>\n",
       "      <td>125973.000000</td>\n",
       "      <td>125973.000000</td>\n",
       "      <td>125973.000000</td>\n",
       "      <td>...</td>\n",
       "      <td>125973.000000</td>\n",
       "      <td>125973.000000</td>\n",
       "      <td>125973.000000</td>\n",
       "      <td>125973.000000</td>\n",
       "      <td>125973.000000</td>\n",
       "      <td>125973.000000</td>\n",
       "      <td>125973.000000</td>\n",
       "      <td>125973.000000</td>\n",
       "      <td>125973.000000</td>\n",
       "      <td>125973.000000</td>\n",
       "    </tr>\n",
       "    <tr>\n",
       "      <th>mean</th>\n",
       "      <td>287.14465</td>\n",
       "      <td>4.556674e+04</td>\n",
       "      <td>1.977911e+04</td>\n",
       "      <td>0.000198</td>\n",
       "      <td>0.022687</td>\n",
       "      <td>0.000111</td>\n",
       "      <td>0.204409</td>\n",
       "      <td>0.001222</td>\n",
       "      <td>0.395736</td>\n",
       "      <td>0.279250</td>\n",
       "      <td>...</td>\n",
       "      <td>115.653005</td>\n",
       "      <td>0.521242</td>\n",
       "      <td>0.082951</td>\n",
       "      <td>0.148379</td>\n",
       "      <td>0.032542</td>\n",
       "      <td>0.284452</td>\n",
       "      <td>0.278485</td>\n",
       "      <td>0.118832</td>\n",
       "      <td>0.120240</td>\n",
       "      <td>19.504060</td>\n",
       "    </tr>\n",
       "    <tr>\n",
       "      <th>std</th>\n",
       "      <td>2604.51531</td>\n",
       "      <td>5.870331e+06</td>\n",
       "      <td>4.021269e+06</td>\n",
       "      <td>0.014086</td>\n",
       "      <td>0.253530</td>\n",
       "      <td>0.014366</td>\n",
       "      <td>2.149968</td>\n",
       "      <td>0.045239</td>\n",
       "      <td>0.489010</td>\n",
       "      <td>23.942042</td>\n",
       "      <td>...</td>\n",
       "      <td>110.702741</td>\n",
       "      <td>0.448949</td>\n",
       "      <td>0.188922</td>\n",
       "      <td>0.308997</td>\n",
       "      <td>0.112564</td>\n",
       "      <td>0.444784</td>\n",
       "      <td>0.445669</td>\n",
       "      <td>0.306557</td>\n",
       "      <td>0.319459</td>\n",
       "      <td>2.291503</td>\n",
       "    </tr>\n",
       "    <tr>\n",
       "      <th>min</th>\n",
       "      <td>0.00000</td>\n",
       "      <td>0.000000e+00</td>\n",
       "      <td>0.000000e+00</td>\n",
       "      <td>0.000000</td>\n",
       "      <td>0.000000</td>\n",
       "      <td>0.000000</td>\n",
       "      <td>0.000000</td>\n",
       "      <td>0.000000</td>\n",
       "      <td>0.000000</td>\n",
       "      <td>0.000000</td>\n",
       "      <td>...</td>\n",
       "      <td>0.000000</td>\n",
       "      <td>0.000000</td>\n",
       "      <td>0.000000</td>\n",
       "      <td>0.000000</td>\n",
       "      <td>0.000000</td>\n",
       "      <td>0.000000</td>\n",
       "      <td>0.000000</td>\n",
       "      <td>0.000000</td>\n",
       "      <td>0.000000</td>\n",
       "      <td>0.000000</td>\n",
       "    </tr>\n",
       "    <tr>\n",
       "      <th>25%</th>\n",
       "      <td>0.00000</td>\n",
       "      <td>0.000000e+00</td>\n",
       "      <td>0.000000e+00</td>\n",
       "      <td>0.000000</td>\n",
       "      <td>0.000000</td>\n",
       "      <td>0.000000</td>\n",
       "      <td>0.000000</td>\n",
       "      <td>0.000000</td>\n",
       "      <td>0.000000</td>\n",
       "      <td>0.000000</td>\n",
       "      <td>...</td>\n",
       "      <td>10.000000</td>\n",
       "      <td>0.050000</td>\n",
       "      <td>0.000000</td>\n",
       "      <td>0.000000</td>\n",
       "      <td>0.000000</td>\n",
       "      <td>0.000000</td>\n",
       "      <td>0.000000</td>\n",
       "      <td>0.000000</td>\n",
       "      <td>0.000000</td>\n",
       "      <td>18.000000</td>\n",
       "    </tr>\n",
       "    <tr>\n",
       "      <th>50%</th>\n",
       "      <td>0.00000</td>\n",
       "      <td>4.400000e+01</td>\n",
       "      <td>0.000000e+00</td>\n",
       "      <td>0.000000</td>\n",
       "      <td>0.000000</td>\n",
       "      <td>0.000000</td>\n",
       "      <td>0.000000</td>\n",
       "      <td>0.000000</td>\n",
       "      <td>0.000000</td>\n",
       "      <td>0.000000</td>\n",
       "      <td>...</td>\n",
       "      <td>63.000000</td>\n",
       "      <td>0.510000</td>\n",
       "      <td>0.020000</td>\n",
       "      <td>0.000000</td>\n",
       "      <td>0.000000</td>\n",
       "      <td>0.000000</td>\n",
       "      <td>0.000000</td>\n",
       "      <td>0.000000</td>\n",
       "      <td>0.000000</td>\n",
       "      <td>20.000000</td>\n",
       "    </tr>\n",
       "    <tr>\n",
       "      <th>75%</th>\n",
       "      <td>0.00000</td>\n",
       "      <td>2.760000e+02</td>\n",
       "      <td>5.160000e+02</td>\n",
       "      <td>0.000000</td>\n",
       "      <td>0.000000</td>\n",
       "      <td>0.000000</td>\n",
       "      <td>0.000000</td>\n",
       "      <td>0.000000</td>\n",
       "      <td>1.000000</td>\n",
       "      <td>0.000000</td>\n",
       "      <td>...</td>\n",
       "      <td>255.000000</td>\n",
       "      <td>1.000000</td>\n",
       "      <td>0.070000</td>\n",
       "      <td>0.060000</td>\n",
       "      <td>0.020000</td>\n",
       "      <td>1.000000</td>\n",
       "      <td>1.000000</td>\n",
       "      <td>0.000000</td>\n",
       "      <td>0.000000</td>\n",
       "      <td>21.000000</td>\n",
       "    </tr>\n",
       "    <tr>\n",
       "      <th>max</th>\n",
       "      <td>42908.00000</td>\n",
       "      <td>1.379964e+09</td>\n",
       "      <td>1.309937e+09</td>\n",
       "      <td>1.000000</td>\n",
       "      <td>3.000000</td>\n",
       "      <td>3.000000</td>\n",
       "      <td>77.000000</td>\n",
       "      <td>5.000000</td>\n",
       "      <td>1.000000</td>\n",
       "      <td>7479.000000</td>\n",
       "      <td>...</td>\n",
       "      <td>255.000000</td>\n",
       "      <td>1.000000</td>\n",
       "      <td>1.000000</td>\n",
       "      <td>1.000000</td>\n",
       "      <td>1.000000</td>\n",
       "      <td>1.000000</td>\n",
       "      <td>1.000000</td>\n",
       "      <td>1.000000</td>\n",
       "      <td>1.000000</td>\n",
       "      <td>21.000000</td>\n",
       "    </tr>\n",
       "  </tbody>\n",
       "</table>\n",
       "<p>8 rows × 39 columns</p>\n",
       "</div>"
      ],
      "text/plain": [
       "           duration      srcbytes      dstbytes           land  wrongfragment  \\\n",
       "count  125973.00000  1.259730e+05  1.259730e+05  125973.000000  125973.000000   \n",
       "mean      287.14465  4.556674e+04  1.977911e+04       0.000198       0.022687   \n",
       "std      2604.51531  5.870331e+06  4.021269e+06       0.014086       0.253530   \n",
       "min         0.00000  0.000000e+00  0.000000e+00       0.000000       0.000000   \n",
       "25%         0.00000  0.000000e+00  0.000000e+00       0.000000       0.000000   \n",
       "50%         0.00000  4.400000e+01  0.000000e+00       0.000000       0.000000   \n",
       "75%         0.00000  2.760000e+02  5.160000e+02       0.000000       0.000000   \n",
       "max     42908.00000  1.379964e+09  1.309937e+09       1.000000       3.000000   \n",
       "\n",
       "              urgent            hot  numfailedlogins       loggedin  \\\n",
       "count  125973.000000  125973.000000    125973.000000  125973.000000   \n",
       "mean        0.000111       0.204409         0.001222       0.395736   \n",
       "std         0.014366       2.149968         0.045239       0.489010   \n",
       "min         0.000000       0.000000         0.000000       0.000000   \n",
       "25%         0.000000       0.000000         0.000000       0.000000   \n",
       "50%         0.000000       0.000000         0.000000       0.000000   \n",
       "75%         0.000000       0.000000         0.000000       1.000000   \n",
       "max         3.000000      77.000000         5.000000       1.000000   \n",
       "\n",
       "       numcompromised  ...  dsthostsrvcount  dsthostsamesrvrate  \\\n",
       "count   125973.000000  ...    125973.000000       125973.000000   \n",
       "mean         0.279250  ...       115.653005            0.521242   \n",
       "std         23.942042  ...       110.702741            0.448949   \n",
       "min          0.000000  ...         0.000000            0.000000   \n",
       "25%          0.000000  ...        10.000000            0.050000   \n",
       "50%          0.000000  ...        63.000000            0.510000   \n",
       "75%          0.000000  ...       255.000000            1.000000   \n",
       "max       7479.000000  ...       255.000000            1.000000   \n",
       "\n",
       "       dsthostdiffsrvrate  dsthostsamesrcportrate  dsthostsrvdiffhostrate  \\\n",
       "count       125973.000000           125973.000000           125973.000000   \n",
       "mean             0.082951                0.148379                0.032542   \n",
       "std              0.188922                0.308997                0.112564   \n",
       "min              0.000000                0.000000                0.000000   \n",
       "25%              0.000000                0.000000                0.000000   \n",
       "50%              0.020000                0.000000                0.000000   \n",
       "75%              0.070000                0.060000                0.020000   \n",
       "max              1.000000                1.000000                1.000000   \n",
       "\n",
       "       dsthostserrorrate  dsthostsrvserrorrate  dsthostrerrorrate  \\\n",
       "count      125973.000000         125973.000000      125973.000000   \n",
       "mean            0.284452              0.278485           0.118832   \n",
       "std             0.444784              0.445669           0.306557   \n",
       "min             0.000000              0.000000           0.000000   \n",
       "25%             0.000000              0.000000           0.000000   \n",
       "50%             0.000000              0.000000           0.000000   \n",
       "75%             1.000000              1.000000           0.000000   \n",
       "max             1.000000              1.000000           1.000000   \n",
       "\n",
       "       dsthostsrvrerrorrate       lastflag  \n",
       "count         125973.000000  125973.000000  \n",
       "mean               0.120240      19.504060  \n",
       "std                0.319459       2.291503  \n",
       "min                0.000000       0.000000  \n",
       "25%                0.000000      18.000000  \n",
       "50%                0.000000      20.000000  \n",
       "75%                0.000000      21.000000  \n",
       "max                1.000000      21.000000  \n",
       "\n",
       "[8 rows x 39 columns]"
      ]
     },
     "execution_count": 4,
     "metadata": {},
     "output_type": "execute_result"
    }
   ],
   "source": [
    "df.describe()"
   ]
  },
  {
   "cell_type": "markdown",
   "metadata": {
    "papermill": {
     "duration": 0.032866,
     "end_time": "2020-11-19T19:43:03.106520",
     "exception": false,
     "start_time": "2020-11-19T19:43:03.073654",
     "status": "completed"
    },
    "tags": []
   },
   "source": [
    "As we can see 'land', 'urgent', 'numfailedlogins', 'numoutboundcmds' have mostly zero values so we can drop these columns."
   ]
  },
  {
   "cell_type": "code",
   "execution_count": 5,
   "metadata": {
    "execution": {
     "iopub.execute_input": "2020-11-19T19:43:03.184131Z",
     "iopub.status.busy": "2020-11-19T19:43:03.183219Z",
     "iopub.status.idle": "2020-11-19T19:43:03.197015Z",
     "shell.execute_reply": "2020-11-19T19:43:03.197514Z"
    },
    "papermill": {
     "duration": 0.058685,
     "end_time": "2020-11-19T19:43:03.197656",
     "exception": false,
     "start_time": "2020-11-19T19:43:03.138971",
     "status": "completed"
    },
    "tags": []
   },
   "outputs": [],
   "source": [
    "df.drop(['land','urgent','numfailedlogins','numoutboundcmds'],axis=1,inplace=True)"
   ]
  },
  {
   "cell_type": "code",
   "execution_count": 6,
   "metadata": {
    "execution": {
     "iopub.execute_input": "2020-11-19T19:43:03.267582Z",
     "iopub.status.busy": "2020-11-19T19:43:03.266711Z",
     "iopub.status.idle": "2020-11-19T19:43:03.332750Z",
     "shell.execute_reply": "2020-11-19T19:43:03.332244Z"
    },
    "papermill": {
     "duration": 0.102441,
     "end_time": "2020-11-19T19:43:03.332846",
     "exception": false,
     "start_time": "2020-11-19T19:43:03.230405",
     "status": "completed"
    },
    "tags": []
   },
   "outputs": [
    {
     "data": {
      "text/plain": [
       "duration                  0\n",
       "protocoltype              0\n",
       "service                   0\n",
       "flag                      0\n",
       "srcbytes                  0\n",
       "dstbytes                  0\n",
       "wrongfragment             0\n",
       "hot                       0\n",
       "loggedin                  0\n",
       "numcompromised            0\n",
       "rootshell                 0\n",
       "suattempted               0\n",
       "numroot                   0\n",
       "numfilecreations          0\n",
       "numshells                 0\n",
       "numaccessfiles            0\n",
       "ishostlogin               0\n",
       "isguestlogin              0\n",
       "count                     0\n",
       "srvcount                  0\n",
       "serrorrate                0\n",
       "srvserrorrate             0\n",
       "rerrorrate                0\n",
       "srvrerrorrate             0\n",
       "samesrvrate               0\n",
       "diffsrvrate               0\n",
       "srvdiffhostrate           0\n",
       "dsthostcount              0\n",
       "dsthostsrvcount           0\n",
       "dsthostsamesrvrate        0\n",
       "dsthostdiffsrvrate        0\n",
       "dsthostsamesrcportrate    0\n",
       "dsthostsrvdiffhostrate    0\n",
       "dsthostserrorrate         0\n",
       "dsthostsrvserrorrate      0\n",
       "dsthostrerrorrate         0\n",
       "dsthostsrvrerrorrate      0\n",
       "attack                    0\n",
       "lastflag                  0\n",
       "dtype: int64"
      ]
     },
     "execution_count": 6,
     "metadata": {},
     "output_type": "execute_result"
    }
   ],
   "source": [
    "df.isna().sum()"
   ]
  },
  {
   "cell_type": "code",
   "execution_count": 7,
   "metadata": {
    "execution": {
     "iopub.execute_input": "2020-11-19T19:43:03.404479Z",
     "iopub.status.busy": "2020-11-19T19:43:03.403651Z",
     "iopub.status.idle": "2020-11-19T19:43:03.418738Z",
     "shell.execute_reply": "2020-11-19T19:43:03.419220Z"
    },
    "papermill": {
     "duration": 0.053569,
     "end_time": "2020-11-19T19:43:03.419335",
     "exception": false,
     "start_time": "2020-11-19T19:43:03.365766",
     "status": "completed"
    },
    "tags": []
   },
   "outputs": [
    {
     "data": {
      "text/html": [
       "<div>\n",
       "<style scoped>\n",
       "    .dataframe tbody tr th:only-of-type {\n",
       "        vertical-align: middle;\n",
       "    }\n",
       "\n",
       "    .dataframe tbody tr th {\n",
       "        vertical-align: top;\n",
       "    }\n",
       "\n",
       "    .dataframe thead th {\n",
       "        text-align: right;\n",
       "    }\n",
       "</style>\n",
       "<table border=\"1\" class=\"dataframe\">\n",
       "  <thead>\n",
       "    <tr style=\"text-align: right;\">\n",
       "      <th></th>\n",
       "      <th>protocoltype</th>\n",
       "      <th>service</th>\n",
       "      <th>flag</th>\n",
       "      <th>attack</th>\n",
       "    </tr>\n",
       "  </thead>\n",
       "  <tbody>\n",
       "    <tr>\n",
       "      <th>0</th>\n",
       "      <td>tcp</td>\n",
       "      <td>ftp_data</td>\n",
       "      <td>SF</td>\n",
       "      <td>normal</td>\n",
       "    </tr>\n",
       "    <tr>\n",
       "      <th>1</th>\n",
       "      <td>udp</td>\n",
       "      <td>other</td>\n",
       "      <td>SF</td>\n",
       "      <td>normal</td>\n",
       "    </tr>\n",
       "    <tr>\n",
       "      <th>2</th>\n",
       "      <td>tcp</td>\n",
       "      <td>private</td>\n",
       "      <td>S0</td>\n",
       "      <td>neptune</td>\n",
       "    </tr>\n",
       "    <tr>\n",
       "      <th>3</th>\n",
       "      <td>tcp</td>\n",
       "      <td>http</td>\n",
       "      <td>SF</td>\n",
       "      <td>normal</td>\n",
       "    </tr>\n",
       "    <tr>\n",
       "      <th>4</th>\n",
       "      <td>tcp</td>\n",
       "      <td>http</td>\n",
       "      <td>SF</td>\n",
       "      <td>normal</td>\n",
       "    </tr>\n",
       "    <tr>\n",
       "      <th>...</th>\n",
       "      <td>...</td>\n",
       "      <td>...</td>\n",
       "      <td>...</td>\n",
       "      <td>...</td>\n",
       "    </tr>\n",
       "    <tr>\n",
       "      <th>125968</th>\n",
       "      <td>tcp</td>\n",
       "      <td>private</td>\n",
       "      <td>S0</td>\n",
       "      <td>neptune</td>\n",
       "    </tr>\n",
       "    <tr>\n",
       "      <th>125969</th>\n",
       "      <td>udp</td>\n",
       "      <td>private</td>\n",
       "      <td>SF</td>\n",
       "      <td>normal</td>\n",
       "    </tr>\n",
       "    <tr>\n",
       "      <th>125970</th>\n",
       "      <td>tcp</td>\n",
       "      <td>smtp</td>\n",
       "      <td>SF</td>\n",
       "      <td>normal</td>\n",
       "    </tr>\n",
       "    <tr>\n",
       "      <th>125971</th>\n",
       "      <td>tcp</td>\n",
       "      <td>klogin</td>\n",
       "      <td>S0</td>\n",
       "      <td>neptune</td>\n",
       "    </tr>\n",
       "    <tr>\n",
       "      <th>125972</th>\n",
       "      <td>tcp</td>\n",
       "      <td>ftp_data</td>\n",
       "      <td>SF</td>\n",
       "      <td>normal</td>\n",
       "    </tr>\n",
       "  </tbody>\n",
       "</table>\n",
       "<p>125973 rows × 4 columns</p>\n",
       "</div>"
      ],
      "text/plain": [
       "       protocoltype   service flag   attack\n",
       "0               tcp  ftp_data   SF   normal\n",
       "1               udp     other   SF   normal\n",
       "2               tcp   private   S0  neptune\n",
       "3               tcp      http   SF   normal\n",
       "4               tcp      http   SF   normal\n",
       "...             ...       ...  ...      ...\n",
       "125968          tcp   private   S0  neptune\n",
       "125969          udp   private   SF   normal\n",
       "125970          tcp      smtp   SF   normal\n",
       "125971          tcp    klogin   S0  neptune\n",
       "125972          tcp  ftp_data   SF   normal\n",
       "\n",
       "[125973 rows x 4 columns]"
      ]
     },
     "execution_count": 7,
     "metadata": {},
     "output_type": "execute_result"
    }
   ],
   "source": [
    "df.select_dtypes(exclude=[np.number])"
   ]
  },
  {
   "cell_type": "markdown",
   "metadata": {
    "papermill": {
     "duration": 0.033511,
     "end_time": "2020-11-19T19:43:03.487127",
     "exception": false,
     "start_time": "2020-11-19T19:43:03.453616",
     "status": "completed"
    },
    "tags": []
   },
   "source": [
    "As we are focussing on Binomial Classification for this dataset, we can make all other classes other than normal as 'attack'"
   ]
  },
  {
   "cell_type": "code",
   "execution_count": 8,
   "metadata": {
    "execution": {
     "iopub.execute_input": "2020-11-19T19:43:03.577841Z",
     "iopub.status.busy": "2020-11-19T19:43:03.576978Z",
     "iopub.status.idle": "2020-11-19T19:43:03.581769Z",
     "shell.execute_reply": "2020-11-19T19:43:03.582216Z"
    },
    "papermill": {
     "duration": 0.061805,
     "end_time": "2020-11-19T19:43:03.582333",
     "exception": false,
     "start_time": "2020-11-19T19:43:03.520528",
     "status": "completed"
    },
    "tags": []
   },
   "outputs": [],
   "source": [
    "df['attack'].loc[df['attack']!='normal']='attack'"
   ]
  },
  {
   "cell_type": "code",
   "execution_count": 9,
   "metadata": {
    "execution": {
     "iopub.execute_input": "2020-11-19T19:43:03.656239Z",
     "iopub.status.busy": "2020-11-19T19:43:03.654517Z",
     "iopub.status.idle": "2020-11-19T19:43:03.656944Z",
     "shell.execute_reply": "2020-11-19T19:43:03.657426Z"
    },
    "papermill": {
     "duration": 0.041729,
     "end_time": "2020-11-19T19:43:03.657536",
     "exception": false,
     "start_time": "2020-11-19T19:43:03.615807",
     "status": "completed"
    },
    "tags": []
   },
   "outputs": [],
   "source": [
    "le=LabelEncoder()"
   ]
  },
  {
   "cell_type": "code",
   "execution_count": 10,
   "metadata": {
    "execution": {
     "iopub.execute_input": "2020-11-19T19:43:03.746377Z",
     "iopub.status.busy": "2020-11-19T19:43:03.736054Z",
     "iopub.status.idle": "2020-11-19T19:43:03.905804Z",
     "shell.execute_reply": "2020-11-19T19:43:03.905319Z"
    },
    "papermill": {
     "duration": 0.214549,
     "end_time": "2020-11-19T19:43:03.905921",
     "exception": false,
     "start_time": "2020-11-19T19:43:03.691372",
     "status": "completed"
    },
    "tags": []
   },
   "outputs": [],
   "source": [
    "df['protocoltype']=le.fit_transform(df['protocoltype'])\n",
    "df['service']=le.fit_transform(df['service'])\n",
    "df['flag']=le.fit_transform(df['flag'])\n",
    "df['attack']=le.fit_transform(df['attack'])"
   ]
  },
  {
   "cell_type": "code",
   "execution_count": 11,
   "metadata": {
    "execution": {
     "iopub.execute_input": "2020-11-19T19:43:03.987568Z",
     "iopub.status.busy": "2020-11-19T19:43:03.986934Z",
     "iopub.status.idle": "2020-11-19T19:43:05.222125Z",
     "shell.execute_reply": "2020-11-19T19:43:05.221631Z"
    },
    "papermill": {
     "duration": 1.277157,
     "end_time": "2020-11-19T19:43:05.222236",
     "exception": false,
     "start_time": "2020-11-19T19:43:03.945079",
     "status": "completed"
    },
    "tags": []
   },
   "outputs": [
    {
     "data": {
      "text/plain": [
       "<matplotlib.axes._subplots.AxesSubplot at 0x7f47fd49d5c0>"
      ]
     },
     "execution_count": 11,
     "metadata": {},
     "output_type": "execute_result"
    },
    {
     "data": {
      "image/png": "[encoded data removed]",
      "text/plain": [
       "<Figure size 1440x1080 with 2 Axes>"
      ]
     },
     "metadata": {
      "needs_background": "light"
     },
     "output_type": "display_data"
    }
   ],
   "source": [
    "plt.figure(figsize=(20,15))\n",
    "sns.heatmap(df.corr())"
   ]
  },
  {
   "cell_type": "code",
   "execution_count": 12,
   "metadata": {
    "execution": {
     "iopub.execute_input": "2020-11-19T19:43:05.302298Z",
     "iopub.status.busy": "2020-11-19T19:43:05.300982Z",
     "iopub.status.idle": "2020-11-19T19:43:05.327438Z",
     "shell.execute_reply": "2020-11-19T19:43:05.326917Z"
    },
    "papermill": {
     "duration": 0.06808,
     "end_time": "2020-11-19T19:43:05.327550",
     "exception": false,
     "start_time": "2020-11-19T19:43:05.259470",
     "status": "completed"
    },
    "tags": []
   },
   "outputs": [],
   "source": [
    "X=df.drop(['attack'],axis=1)\n",
    "y=df['attack']"
   ]
  },
  {
   "cell_type": "code",
   "execution_count": 13,
   "metadata": {
    "execution": {
     "iopub.execute_input": "2020-11-19T19:43:05.406521Z",
     "iopub.status.busy": "2020-11-19T19:43:05.405634Z",
     "iopub.status.idle": "2020-11-19T19:43:05.518415Z",
     "shell.execute_reply": "2020-11-19T19:43:05.517821Z"
    },
    "papermill": {
     "duration": 0.153726,
     "end_time": "2020-11-19T19:43:05.518534",
     "exception": false,
     "start_time": "2020-11-19T19:43:05.364808",
     "status": "completed"
    },
    "tags": []
   },
   "outputs": [
    {
     "data": {
      "text/plain": [
       "<matplotlib.axes._subplots.AxesSubplot at 0x7f47fd2d20b8>"
      ]
     },
     "execution_count": 13,
     "metadata": {},
     "output_type": "execute_result"
    },
    {
     "data": {
      "image/png": "[encoded data removed]",
      "text/plain": [
       "<Figure size 432x288 with 1 Axes>"
      ]
     },
     "metadata": {
      "needs_background": "light"
     },
     "output_type": "display_data"
    }
   ],
   "source": [
    "sns.countplot(df['attack'])"
   ]
  },
  {
   "cell_type": "code",
   "execution_count": 14,
   "metadata": {
    "execution": {
     "iopub.execute_input": "2020-11-19T19:43:05.624683Z",
     "iopub.status.busy": "2020-11-19T19:43:05.623035Z",
     "iopub.status.idle": "2020-11-19T19:43:05.627104Z",
     "shell.execute_reply": "2020-11-19T19:43:05.626558Z"
    },
    "papermill": {
     "duration": 0.069755,
     "end_time": "2020-11-19T19:43:05.627244",
     "exception": false,
     "start_time": "2020-11-19T19:43:05.557489",
     "status": "completed"
    },
    "tags": []
   },
   "outputs": [
    {
     "name": "stdout",
     "output_type": "stream",
     "text": [
      "Class distribution: Counter({1: 67343, 0: 58630})\n"
     ]
    }
   ],
   "source": [
    "print(\"Class distribution: {}\".format(Counter(y)))"
   ]
  },
  {
   "cell_type": "code",
   "execution_count": 15,
   "metadata": {
    "execution": {
     "iopub.execute_input": "2020-11-19T19:43:05.711646Z",
     "iopub.status.busy": "2020-11-19T19:43:05.710612Z",
     "iopub.status.idle": "2020-11-19T19:43:05.833918Z",
     "shell.execute_reply": "2020-11-19T19:43:05.833396Z"
    },
    "papermill": {
     "duration": 0.168238,
     "end_time": "2020-11-19T19:43:05.834034",
     "exception": false,
     "start_time": "2020-11-19T19:43:05.665796",
     "status": "completed"
    },
    "tags": []
   },
   "outputs": [],
   "source": [
    "scaler = StandardScaler()\n",
    "scaler.fit(X)\n",
    "X_transformed = scaler.transform(X)"
   ]
  },
  {
   "cell_type": "markdown",
   "metadata": {
    "papermill": {
     "duration": 0.038541,
     "end_time": "2020-11-19T19:43:05.911911",
     "exception": false,
     "start_time": "2020-11-19T19:43:05.873370",
     "status": "completed"
    },
    "tags": []
   },
   "source": [
    "### Logistic Regression"
   ]
  },
  {
   "cell_type": "code",
   "execution_count": 16,
   "metadata": {
    "execution": {
     "iopub.execute_input": "2020-11-19T19:43:05.998233Z",
     "iopub.status.busy": "2020-11-19T19:43:05.997354Z",
     "iopub.status.idle": "2020-11-19T19:43:07.386657Z",
     "shell.execute_reply": "2020-11-19T19:43:07.386015Z"
    },
    "papermill": {
     "duration": 1.432585,
     "end_time": "2020-11-19T19:43:07.386766",
     "exception": false,
     "start_time": "2020-11-19T19:43:05.954181",
     "status": "completed"
    },
    "tags": []
   },
   "outputs": [],
   "source": [
    "lr=LogisticRegression()\n",
    "lr.fit(X_transformed,y)\n",
    "lr_pred=lr.predict(X_transformed)"
   ]
  },
  {
   "cell_type": "code",
   "execution_count": 17,
   "metadata": {
    "execution": {
     "iopub.execute_input": "2020-11-19T19:43:07.473945Z",
     "iopub.status.busy": "2020-11-19T19:43:07.473070Z",
     "iopub.status.idle": "2020-11-19T19:43:07.493402Z",
     "shell.execute_reply": "2020-11-19T19:43:07.492915Z"
    },
    "papermill": {
     "duration": 0.067454,
     "end_time": "2020-11-19T19:43:07.493501",
     "exception": false,
     "start_time": "2020-11-19T19:43:07.426047",
     "status": "completed"
    },
    "tags": []
   },
   "outputs": [],
   "source": [
    "lr_df=pd.DataFrame()\n",
    "lr_df['actual']=y\n",
    "lr_df['pred']=lr_pred"
   ]
  },
  {
   "cell_type": "code",
   "execution_count": 18,
   "metadata": {
    "execution": {
     "iopub.execute_input": "2020-11-19T19:43:07.578687Z",
     "iopub.status.busy": "2020-11-19T19:43:07.577915Z",
     "iopub.status.idle": "2020-11-19T19:43:07.582589Z",
     "shell.execute_reply": "2020-11-19T19:43:07.583023Z"
    },
    "papermill": {
     "duration": 0.050826,
     "end_time": "2020-11-19T19:43:07.583157",
     "exception": false,
     "start_time": "2020-11-19T19:43:07.532331",
     "status": "completed"
    },
    "tags": []
   },
   "outputs": [
    {
     "data": {
      "text/html": [
       "<div>\n",
       "<style scoped>\n",
       "    .dataframe tbody tr th:only-of-type {\n",
       "        vertical-align: middle;\n",
       "    }\n",
       "\n",
       "    .dataframe tbody tr th {\n",
       "        vertical-align: top;\n",
       "    }\n",
       "\n",
       "    .dataframe thead th {\n",
       "        text-align: right;\n",
       "    }\n",
       "</style>\n",
       "<table border=\"1\" class=\"dataframe\">\n",
       "  <thead>\n",
       "    <tr style=\"text-align: right;\">\n",
       "      <th></th>\n",
       "      <th>actual</th>\n",
       "      <th>pred</th>\n",
       "    </tr>\n",
       "  </thead>\n",
       "  <tbody>\n",
       "    <tr>\n",
       "      <th>0</th>\n",
       "      <td>1</td>\n",
       "      <td>1</td>\n",
       "    </tr>\n",
       "    <tr>\n",
       "      <th>1</th>\n",
       "      <td>1</td>\n",
       "      <td>0</td>\n",
       "    </tr>\n",
       "    <tr>\n",
       "      <th>2</th>\n",
       "      <td>0</td>\n",
       "      <td>0</td>\n",
       "    </tr>\n",
       "    <tr>\n",
       "      <th>3</th>\n",
       "      <td>1</td>\n",
       "      <td>1</td>\n",
       "    </tr>\n",
       "    <tr>\n",
       "      <th>4</th>\n",
       "      <td>1</td>\n",
       "      <td>1</td>\n",
       "    </tr>\n",
       "  </tbody>\n",
       "</table>\n",
       "</div>"
      ],
      "text/plain": [
       "   actual  pred\n",
       "0       1     1\n",
       "1       1     0\n",
       "2       0     0\n",
       "3       1     1\n",
       "4       1     1"
      ]
     },
     "execution_count": 18,
     "metadata": {},
     "output_type": "execute_result"
    }
   ],
   "source": [
    "lr_df.head()"
   ]
  },
  {
   "cell_type": "code",
   "execution_count": 19,
   "metadata": {
    "execution": {
     "iopub.execute_input": "2020-11-19T19:43:07.668837Z",
     "iopub.status.busy": "2020-11-19T19:43:07.668005Z",
     "iopub.status.idle": "2020-11-19T19:43:07.682728Z",
     "shell.execute_reply": "2020-11-19T19:43:07.683252Z"
    },
    "papermill": {
     "duration": 0.059513,
     "end_time": "2020-11-19T19:43:07.683365",
     "exception": false,
     "start_time": "2020-11-19T19:43:07.623852",
     "status": "completed"
    },
    "tags": []
   },
   "outputs": [
    {
     "name": "stdout",
     "output_type": "stream",
     "text": [
      "0.9783207512720979\n"
     ]
    }
   ],
   "source": [
    "print(accuracy_score(y, lr_pred))"
   ]
  },
  {
   "cell_type": "code",
   "execution_count": 20,
   "metadata": {
    "execution": {
     "iopub.execute_input": "2020-11-19T19:43:07.767911Z",
     "iopub.status.busy": "2020-11-19T19:43:07.767088Z",
     "iopub.status.idle": "2020-11-19T19:43:07.953136Z",
     "shell.execute_reply": "2020-11-19T19:43:07.953704Z"
    },
    "papermill": {
     "duration": 0.229834,
     "end_time": "2020-11-19T19:43:07.953848",
     "exception": false,
     "start_time": "2020-11-19T19:43:07.724014",
     "status": "completed"
    },
    "tags": []
   },
   "outputs": [
    {
     "data": {
      "text/plain": [
       "array([[57558,  1072],\n",
       "       [ 1659, 65684]])"
      ]
     },
     "execution_count": 20,
     "metadata": {},
     "output_type": "execute_result"
    }
   ],
   "source": [
    "confusion_matrix(y, lr_pred)"
   ]
  },
  {
   "cell_type": "code",
   "execution_count": 21,
   "metadata": {
    "execution": {
     "iopub.execute_input": "2020-11-19T19:43:08.042012Z",
     "iopub.status.busy": "2020-11-19T19:43:08.041210Z",
     "iopub.status.idle": "2020-11-19T19:43:08.246102Z",
     "shell.execute_reply": "2020-11-19T19:43:08.245564Z"
    },
    "papermill": {
     "duration": 0.250322,
     "end_time": "2020-11-19T19:43:08.246232",
     "exception": false,
     "start_time": "2020-11-19T19:43:07.995910",
     "status": "completed"
    },
    "tags": []
   },
   "outputs": [
    {
     "name": "stdout",
     "output_type": "stream",
     "text": [
      "              precision    recall  f1-score   support\n",
      "\n",
      "           0       0.97      0.98      0.98     58630\n",
      "           1       0.98      0.98      0.98     67343\n",
      "\n",
      "    accuracy                           0.98    125973\n",
      "   macro avg       0.98      0.98      0.98    125973\n",
      "weighted avg       0.98      0.98      0.98    125973\n",
      "\n"
     ]
    }
   ],
   "source": [
    "print(classification_report(y, lr_pred))"
   ]
  },
  {
   "cell_type": "markdown",
   "metadata": {
    "papermill": {
     "duration": 0.043325,
     "end_time": "2020-11-19T19:43:08.330753",
     "exception": false,
     "start_time": "2020-11-19T19:43:08.287428",
     "status": "completed"
    },
    "tags": []
   },
   "source": [
    "### Random Forest Classifier"
   ]
  },
  {
   "cell_type": "code",
   "execution_count": 22,
   "metadata": {
    "execution": {
     "iopub.execute_input": "2020-11-19T19:43:08.418288Z",
     "iopub.status.busy": "2020-11-19T19:43:08.417217Z",
     "iopub.status.idle": "2020-11-19T19:43:21.128894Z",
     "shell.execute_reply": "2020-11-19T19:43:21.129584Z"
    },
    "papermill": {
     "duration": 12.758313,
     "end_time": "2020-11-19T19:43:21.129779",
     "exception": false,
     "start_time": "2020-11-19T19:43:08.371466",
     "status": "completed"
    },
    "tags": []
   },
   "outputs": [],
   "source": [
    "rf=RandomForestClassifier()\n",
    "rf.fit(X_transformed,y)\n",
    "rf_pred=rf.predict(X_transformed)"
   ]
  },
  {
   "cell_type": "code",
   "execution_count": 23,
   "metadata": {
    "execution": {
     "iopub.execute_input": "2020-11-19T19:43:21.266688Z",
     "iopub.status.busy": "2020-11-19T19:43:21.265818Z",
     "iopub.status.idle": "2020-11-19T19:43:21.300609Z",
     "shell.execute_reply": "2020-11-19T19:43:21.301325Z"
    },
    "papermill": {
     "duration": 0.105784,
     "end_time": "2020-11-19T19:43:21.301508",
     "exception": false,
     "start_time": "2020-11-19T19:43:21.195724",
     "status": "completed"
    },
    "tags": []
   },
   "outputs": [
    {
     "data": {
      "text/html": [
       "<div>\n",
       "<style scoped>\n",
       "    .dataframe tbody tr th:only-of-type {\n",
       "        vertical-align: middle;\n",
       "    }\n",
       "\n",
       "    .dataframe tbody tr th {\n",
       "        vertical-align: top;\n",
       "    }\n",
       "\n",
       "    .dataframe thead th {\n",
       "        text-align: right;\n",
       "    }\n",
       "</style>\n",
       "<table border=\"1\" class=\"dataframe\">\n",
       "  <thead>\n",
       "    <tr style=\"text-align: right;\">\n",
       "      <th></th>\n",
       "      <th>actual</th>\n",
       "      <th>pred</th>\n",
       "    </tr>\n",
       "  </thead>\n",
       "  <tbody>\n",
       "    <tr>\n",
       "      <th>0</th>\n",
       "      <td>1</td>\n",
       "      <td>1</td>\n",
       "    </tr>\n",
       "    <tr>\n",
       "      <th>1</th>\n",
       "      <td>1</td>\n",
       "      <td>1</td>\n",
       "    </tr>\n",
       "    <tr>\n",
       "      <th>2</th>\n",
       "      <td>0</td>\n",
       "      <td>0</td>\n",
       "    </tr>\n",
       "    <tr>\n",
       "      <th>3</th>\n",
       "      <td>1</td>\n",
       "      <td>1</td>\n",
       "    </tr>\n",
       "    <tr>\n",
       "      <th>4</th>\n",
       "      <td>1</td>\n",
       "      <td>1</td>\n",
       "    </tr>\n",
       "  </tbody>\n",
       "</table>\n",
       "</div>"
      ],
      "text/plain": [
       "   actual  pred\n",
       "0       1     1\n",
       "1       1     1\n",
       "2       0     0\n",
       "3       1     1\n",
       "4       1     1"
      ]
     },
     "execution_count": 23,
     "metadata": {},
     "output_type": "execute_result"
    }
   ],
   "source": [
    "rf_df=pd.DataFrame()\n",
    "rf_df['actual']=y\n",
    "rf_df['pred']=rf_pred\n",
    "rf_df.head()"
   ]
  },
  {
   "cell_type": "code",
   "execution_count": 24,
   "metadata": {
    "execution": {
     "iopub.execute_input": "2020-11-19T19:43:21.446064Z",
     "iopub.status.busy": "2020-11-19T19:43:21.445101Z",
     "iopub.status.idle": "2020-11-19T19:43:21.468530Z",
     "shell.execute_reply": "2020-11-19T19:43:21.469809Z"
    },
    "papermill": {
     "duration": 0.106738,
     "end_time": "2020-11-19T19:43:21.470005",
     "exception": false,
     "start_time": "2020-11-19T19:43:21.363267",
     "status": "completed"
    },
    "tags": []
   },
   "outputs": [
    {
     "name": "stdout",
     "output_type": "stream",
     "text": [
      "1.0\n"
     ]
    }
   ],
   "source": [
    "print(accuracy_score(y, rf_pred))"
   ]
  },
  {
   "cell_type": "code",
   "execution_count": 25,
   "metadata": {
    "execution": {
     "iopub.execute_input": "2020-11-19T19:43:21.592788Z",
     "iopub.status.busy": "2020-11-19T19:43:21.592061Z",
     "iopub.status.idle": "2020-11-19T19:43:21.836357Z",
     "shell.execute_reply": "2020-11-19T19:43:21.837357Z"
    },
    "papermill": {
     "duration": 0.308551,
     "end_time": "2020-11-19T19:43:21.837524",
     "exception": false,
     "start_time": "2020-11-19T19:43:21.528973",
     "status": "completed"
    },
    "tags": []
   },
   "outputs": [
    {
     "data": {
      "text/plain": [
       "array([[58630,     0],\n",
       "       [    0, 67343]])"
      ]
     },
     "execution_count": 25,
     "metadata": {},
     "output_type": "execute_result"
    }
   ],
   "source": [
    "confusion_matrix(y, rf_pred)"
   ]
  },
  {
   "cell_type": "code",
   "execution_count": 26,
   "metadata": {
    "execution": {
     "iopub.execute_input": "2020-11-19T19:43:21.971131Z",
     "iopub.status.busy": "2020-11-19T19:43:21.970284Z",
     "iopub.status.idle": "2020-11-19T19:43:22.211515Z",
     "shell.execute_reply": "2020-11-19T19:43:22.211961Z"
    },
    "papermill": {
     "duration": 0.314042,
     "end_time": "2020-11-19T19:43:22.212127",
     "exception": false,
     "start_time": "2020-11-19T19:43:21.898085",
     "status": "completed"
    },
    "tags": []
   },
   "outputs": [
    {
     "name": "stdout",
     "output_type": "stream",
     "text": [
      "              precision    recall  f1-score   support\n",
      "\n",
      "           0       1.00      1.00      1.00     58630\n",
      "           1       1.00      1.00      1.00     67343\n",
      "\n",
      "    accuracy                           1.00    125973\n",
      "   macro avg       1.00      1.00      1.00    125973\n",
      "weighted avg       1.00      1.00      1.00    125973\n",
      "\n"
     ]
    }
   ],
   "source": [
    "print(classification_report(y, rf_pred))"
   ]
  },
  {
   "cell_type": "markdown",
   "metadata": {
    "papermill": {
     "duration": 0.043462,
     "end_time": "2020-11-19T19:43:22.299047",
     "exception": false,
     "start_time": "2020-11-19T19:43:22.255585",
     "status": "completed"
    },
    "tags": []
   },
   "source": [
    "**We can see Random Forest Classifier is giving better accuracy in comparison to Logistic Regression.**"
   ]
  },
  {
   "cell_type": "markdown",
   "metadata": {
    "papermill": {
     "duration": 0.04368,
     "end_time": "2020-11-19T19:43:22.387598",
     "exception": false,
     "start_time": "2020-11-19T19:43:22.343918",
     "status": "completed"
    },
    "tags": []
   },
   "source": [
    "Using Random Forest Classifier Model on test data:"
   ]
  },
  {
   "cell_type": "code",
   "execution_count": 27,
   "metadata": {
    "execution": {
     "iopub.execute_input": "2020-11-19T19:43:22.492773Z",
     "iopub.status.busy": "2020-11-19T19:43:22.491757Z",
     "iopub.status.idle": "2020-11-19T19:43:22.614285Z",
     "shell.execute_reply": "2020-11-19T19:43:22.614777Z"
    },
    "papermill": {
     "duration": 0.183872,
     "end_time": "2020-11-19T19:43:22.614923",
     "exception": false,
     "start_time": "2020-11-19T19:43:22.431051",
     "status": "completed"
    },
    "tags": []
   },
   "outputs": [
    {
     "data": {
      "text/html": [
       "<div>\n",
       "<style scoped>\n",
       "    .dataframe tbody tr th:only-of-type {\n",
       "        vertical-align: middle;\n",
       "    }\n",
       "\n",
       "    .dataframe tbody tr th {\n",
       "        vertical-align: top;\n",
       "    }\n",
       "\n",
       "    .dataframe thead th {\n",
       "        text-align: right;\n",
       "    }\n",
       "</style>\n",
       "<table border=\"1\" class=\"dataframe\">\n",
       "  <thead>\n",
       "    <tr style=\"text-align: right;\">\n",
       "      <th></th>\n",
       "      <th>duration</th>\n",
       "      <th>protocoltype</th>\n",
       "      <th>service</th>\n",
       "      <th>flag</th>\n",
       "      <th>srcbytes</th>\n",
       "      <th>dstbytes</th>\n",
       "      <th>land</th>\n",
       "      <th>wrongfragment</th>\n",
       "      <th>urgent</th>\n",
       "      <th>hot</th>\n",
       "      <th>...</th>\n",
       "      <th>dsthostsamesrvrate</th>\n",
       "      <th>dsthostdiffsrvrate</th>\n",
       "      <th>dsthostsamesrcportrate</th>\n",
       "      <th>dsthostsrvdiffhostrate</th>\n",
       "      <th>dsthostserrorrate</th>\n",
       "      <th>dsthostsrvserrorrate</th>\n",
       "      <th>dsthostrerrorrate</th>\n",
       "      <th>dsthostsrvrerrorrate</th>\n",
       "      <th>attack</th>\n",
       "      <th>lastflag</th>\n",
       "    </tr>\n",
       "  </thead>\n",
       "  <tbody>\n",
       "    <tr>\n",
       "      <th>0</th>\n",
       "      <td>0</td>\n",
       "      <td>tcp</td>\n",
       "      <td>private</td>\n",
       "      <td>REJ</td>\n",
       "      <td>0</td>\n",
       "      <td>0</td>\n",
       "      <td>0</td>\n",
       "      <td>0</td>\n",
       "      <td>0</td>\n",
       "      <td>0</td>\n",
       "      <td>...</td>\n",
       "      <td>0.04</td>\n",
       "      <td>0.06</td>\n",
       "      <td>0.00</td>\n",
       "      <td>0.00</td>\n",
       "      <td>0.0</td>\n",
       "      <td>0.0</td>\n",
       "      <td>1.00</td>\n",
       "      <td>1.00</td>\n",
       "      <td>neptune</td>\n",
       "      <td>21</td>\n",
       "    </tr>\n",
       "    <tr>\n",
       "      <th>1</th>\n",
       "      <td>0</td>\n",
       "      <td>tcp</td>\n",
       "      <td>private</td>\n",
       "      <td>REJ</td>\n",
       "      <td>0</td>\n",
       "      <td>0</td>\n",
       "      <td>0</td>\n",
       "      <td>0</td>\n",
       "      <td>0</td>\n",
       "      <td>0</td>\n",
       "      <td>...</td>\n",
       "      <td>0.00</td>\n",
       "      <td>0.06</td>\n",
       "      <td>0.00</td>\n",
       "      <td>0.00</td>\n",
       "      <td>0.0</td>\n",
       "      <td>0.0</td>\n",
       "      <td>1.00</td>\n",
       "      <td>1.00</td>\n",
       "      <td>neptune</td>\n",
       "      <td>21</td>\n",
       "    </tr>\n",
       "    <tr>\n",
       "      <th>2</th>\n",
       "      <td>2</td>\n",
       "      <td>tcp</td>\n",
       "      <td>ftp_data</td>\n",
       "      <td>SF</td>\n",
       "      <td>12983</td>\n",
       "      <td>0</td>\n",
       "      <td>0</td>\n",
       "      <td>0</td>\n",
       "      <td>0</td>\n",
       "      <td>0</td>\n",
       "      <td>...</td>\n",
       "      <td>0.61</td>\n",
       "      <td>0.04</td>\n",
       "      <td>0.61</td>\n",
       "      <td>0.02</td>\n",
       "      <td>0.0</td>\n",
       "      <td>0.0</td>\n",
       "      <td>0.00</td>\n",
       "      <td>0.00</td>\n",
       "      <td>normal</td>\n",
       "      <td>21</td>\n",
       "    </tr>\n",
       "    <tr>\n",
       "      <th>3</th>\n",
       "      <td>0</td>\n",
       "      <td>icmp</td>\n",
       "      <td>eco_i</td>\n",
       "      <td>SF</td>\n",
       "      <td>20</td>\n",
       "      <td>0</td>\n",
       "      <td>0</td>\n",
       "      <td>0</td>\n",
       "      <td>0</td>\n",
       "      <td>0</td>\n",
       "      <td>...</td>\n",
       "      <td>1.00</td>\n",
       "      <td>0.00</td>\n",
       "      <td>1.00</td>\n",
       "      <td>0.28</td>\n",
       "      <td>0.0</td>\n",
       "      <td>0.0</td>\n",
       "      <td>0.00</td>\n",
       "      <td>0.00</td>\n",
       "      <td>saint</td>\n",
       "      <td>15</td>\n",
       "    </tr>\n",
       "    <tr>\n",
       "      <th>4</th>\n",
       "      <td>1</td>\n",
       "      <td>tcp</td>\n",
       "      <td>telnet</td>\n",
       "      <td>RSTO</td>\n",
       "      <td>0</td>\n",
       "      <td>15</td>\n",
       "      <td>0</td>\n",
       "      <td>0</td>\n",
       "      <td>0</td>\n",
       "      <td>0</td>\n",
       "      <td>...</td>\n",
       "      <td>0.31</td>\n",
       "      <td>0.17</td>\n",
       "      <td>0.03</td>\n",
       "      <td>0.02</td>\n",
       "      <td>0.0</td>\n",
       "      <td>0.0</td>\n",
       "      <td>0.83</td>\n",
       "      <td>0.71</td>\n",
       "      <td>mscan</td>\n",
       "      <td>11</td>\n",
       "    </tr>\n",
       "  </tbody>\n",
       "</table>\n",
       "<p>5 rows × 43 columns</p>\n",
       "</div>"
      ],
      "text/plain": [
       "   duration protocoltype   service  flag  srcbytes  dstbytes  land  \\\n",
       "0         0          tcp   private   REJ         0         0     0   \n",
       "1         0          tcp   private   REJ         0         0     0   \n",
       "2         2          tcp  ftp_data    SF     12983         0     0   \n",
       "3         0         icmp     eco_i    SF        20         0     0   \n",
       "4         1          tcp    telnet  RSTO         0        15     0   \n",
       "\n",
       "   wrongfragment  urgent  hot  ...  dsthostsamesrvrate  dsthostdiffsrvrate  \\\n",
       "0              0       0    0  ...                0.04                0.06   \n",
       "1              0       0    0  ...                0.00                0.06   \n",
       "2              0       0    0  ...                0.61                0.04   \n",
       "3              0       0    0  ...                1.00                0.00   \n",
       "4              0       0    0  ...                0.31                0.17   \n",
       "\n",
       "   dsthostsamesrcportrate  dsthostsrvdiffhostrate  dsthostserrorrate  \\\n",
       "0                    0.00                    0.00                0.0   \n",
       "1                    0.00                    0.00                0.0   \n",
       "2                    0.61                    0.02                0.0   \n",
       "3                    1.00                    0.28                0.0   \n",
       "4                    0.03                    0.02                0.0   \n",
       "\n",
       "   dsthostsrvserrorrate  dsthostrerrorrate  dsthostsrvrerrorrate   attack  \\\n",
       "0                   0.0               1.00                  1.00  neptune   \n",
       "1                   0.0               1.00                  1.00  neptune   \n",
       "2                   0.0               0.00                  0.00   normal   \n",
       "3                   0.0               0.00                  0.00    saint   \n",
       "4                   0.0               0.83                  0.71    mscan   \n",
       "\n",
       "   lastflag  \n",
       "0        21  \n",
       "1        21  \n",
       "2        21  \n",
       "3        15  \n",
       "4        11  \n",
       "\n",
       "[5 rows x 43 columns]"
      ]
     },
     "execution_count": 27,
     "metadata": {},
     "output_type": "execute_result"
    }
   ],
   "source": [
    "test_df = pd.read_csv(data_path+\"Test.txt\",\n",
    "                      sep=\",\",\n",
    "                      names=[\"duration\",\"protocoltype\",\"service\",\"flag\",\"srcbytes\",\"dstbytes\",\n",
    "                             \"land\", \"wrongfragment\",\"urgent\",\"hot\",\"numfailedlogins\",\"loggedin\", \n",
    "                             \"numcompromised\",\"rootshell\",\"suattempted\",\"numroot\",\n",
    "                             \"numfilecreations\", \"numshells\",\"numaccessfiles\",\"numoutboundcmds\",\n",
    "                             \"ishostlogin\", \"isguestlogin\",\"count\",\"srvcount\",\"serrorrate\", \n",
    "                             \"srvserrorrate\",\"rerrorrate\",\"srvrerrorrate\",\"samesrvrate\", \n",
    "                             \"diffsrvrate\", \"srvdiffhostrate\",\"dsthostcount\",\"dsthostsrvcount\",\n",
    "                             \"dsthostsamesrvrate\", \"dsthostdiffsrvrate\",\"dsthostsamesrcportrate\",\n",
    "                             \"dsthostsrvdiffhostrate\",\"dsthostserrorrate\",\"dsthostsrvserrorrate\",\n",
    "                             \"dsthostrerrorrate\",\"dsthostsrvrerrorrate\",\"attack\", \"lastflag\"])\n",
    "test_df.head()"
   ]
  },
  {
   "cell_type": "code",
   "execution_count": 28,
   "metadata": {
    "execution": {
     "iopub.execute_input": "2020-11-19T19:43:22.719421Z",
     "iopub.status.busy": "2020-11-19T19:43:22.718744Z",
     "iopub.status.idle": "2020-11-19T19:43:22.722343Z",
     "shell.execute_reply": "2020-11-19T19:43:22.722796Z"
    },
    "papermill": {
     "duration": 0.063643,
     "end_time": "2020-11-19T19:43:22.722916",
     "exception": false,
     "start_time": "2020-11-19T19:43:22.659273",
     "status": "completed"
    },
    "tags": []
   },
   "outputs": [
    {
     "data": {
      "text/html": [
       "<div>\n",
       "<style scoped>\n",
       "    .dataframe tbody tr th:only-of-type {\n",
       "        vertical-align: middle;\n",
       "    }\n",
       "\n",
       "    .dataframe tbody tr th {\n",
       "        vertical-align: top;\n",
       "    }\n",
       "\n",
       "    .dataframe thead th {\n",
       "        text-align: right;\n",
       "    }\n",
       "</style>\n",
       "<table border=\"1\" class=\"dataframe\">\n",
       "  <thead>\n",
       "    <tr style=\"text-align: right;\">\n",
       "      <th></th>\n",
       "      <th>protocoltype</th>\n",
       "      <th>service</th>\n",
       "      <th>flag</th>\n",
       "      <th>attack</th>\n",
       "    </tr>\n",
       "  </thead>\n",
       "  <tbody>\n",
       "    <tr>\n",
       "      <th>0</th>\n",
       "      <td>tcp</td>\n",
       "      <td>private</td>\n",
       "      <td>REJ</td>\n",
       "      <td>neptune</td>\n",
       "    </tr>\n",
       "    <tr>\n",
       "      <th>1</th>\n",
       "      <td>tcp</td>\n",
       "      <td>private</td>\n",
       "      <td>REJ</td>\n",
       "      <td>neptune</td>\n",
       "    </tr>\n",
       "    <tr>\n",
       "      <th>2</th>\n",
       "      <td>tcp</td>\n",
       "      <td>ftp_data</td>\n",
       "      <td>SF</td>\n",
       "      <td>normal</td>\n",
       "    </tr>\n",
       "    <tr>\n",
       "      <th>3</th>\n",
       "      <td>icmp</td>\n",
       "      <td>eco_i</td>\n",
       "      <td>SF</td>\n",
       "      <td>saint</td>\n",
       "    </tr>\n",
       "    <tr>\n",
       "      <th>4</th>\n",
       "      <td>tcp</td>\n",
       "      <td>telnet</td>\n",
       "      <td>RSTO</td>\n",
       "      <td>mscan</td>\n",
       "    </tr>\n",
       "    <tr>\n",
       "      <th>...</th>\n",
       "      <td>...</td>\n",
       "      <td>...</td>\n",
       "      <td>...</td>\n",
       "      <td>...</td>\n",
       "    </tr>\n",
       "    <tr>\n",
       "      <th>22539</th>\n",
       "      <td>tcp</td>\n",
       "      <td>smtp</td>\n",
       "      <td>SF</td>\n",
       "      <td>normal</td>\n",
       "    </tr>\n",
       "    <tr>\n",
       "      <th>22540</th>\n",
       "      <td>tcp</td>\n",
       "      <td>http</td>\n",
       "      <td>SF</td>\n",
       "      <td>normal</td>\n",
       "    </tr>\n",
       "    <tr>\n",
       "      <th>22541</th>\n",
       "      <td>tcp</td>\n",
       "      <td>http</td>\n",
       "      <td>SF</td>\n",
       "      <td>back</td>\n",
       "    </tr>\n",
       "    <tr>\n",
       "      <th>22542</th>\n",
       "      <td>udp</td>\n",
       "      <td>domain_u</td>\n",
       "      <td>SF</td>\n",
       "      <td>normal</td>\n",
       "    </tr>\n",
       "    <tr>\n",
       "      <th>22543</th>\n",
       "      <td>tcp</td>\n",
       "      <td>sunrpc</td>\n",
       "      <td>REJ</td>\n",
       "      <td>mscan</td>\n",
       "    </tr>\n",
       "  </tbody>\n",
       "</table>\n",
       "<p>22544 rows × 4 columns</p>\n",
       "</div>"
      ],
      "text/plain": [
       "      protocoltype   service  flag   attack\n",
       "0              tcp   private   REJ  neptune\n",
       "1              tcp   private   REJ  neptune\n",
       "2              tcp  ftp_data    SF   normal\n",
       "3             icmp     eco_i    SF    saint\n",
       "4              tcp    telnet  RSTO    mscan\n",
       "...            ...       ...   ...      ...\n",
       "22539          tcp      smtp    SF   normal\n",
       "22540          tcp      http    SF   normal\n",
       "22541          tcp      http    SF     back\n",
       "22542          udp  domain_u    SF   normal\n",
       "22543          tcp    sunrpc   REJ    mscan\n",
       "\n",
       "[22544 rows x 4 columns]"
      ]
     },
     "execution_count": 28,
     "metadata": {},
     "output_type": "execute_result"
    }
   ],
   "source": [
    "test_df.select_dtypes(exclude=[np.number])"
   ]
  },
  {
   "cell_type": "code",
   "execution_count": 29,
   "metadata": {
    "execution": {
     "iopub.execute_input": "2020-11-19T19:43:22.821646Z",
     "iopub.status.busy": "2020-11-19T19:43:22.820395Z",
     "iopub.status.idle": "2020-11-19T19:43:22.824187Z",
     "shell.execute_reply": "2020-11-19T19:43:22.823696Z"
    },
    "papermill": {
     "duration": 0.056429,
     "end_time": "2020-11-19T19:43:22.824284",
     "exception": false,
     "start_time": "2020-11-19T19:43:22.767855",
     "status": "completed"
    },
    "tags": []
   },
   "outputs": [],
   "source": [
    "test_df['attack'].loc[test_df['attack']!='normal']='attack'"
   ]
  },
  {
   "cell_type": "code",
   "execution_count": 30,
   "metadata": {
    "execution": {
     "iopub.execute_input": "2020-11-19T19:43:22.937437Z",
     "iopub.status.busy": "2020-11-19T19:43:22.936644Z",
     "iopub.status.idle": "2020-11-19T19:43:22.956640Z",
     "shell.execute_reply": "2020-11-19T19:43:22.956065Z"
    },
    "papermill": {
     "duration": 0.086146,
     "end_time": "2020-11-19T19:43:22.956736",
     "exception": false,
     "start_time": "2020-11-19T19:43:22.870590",
     "status": "completed"
    },
    "tags": []
   },
   "outputs": [],
   "source": [
    "test_df['protocoltype']=le.fit_transform(test_df['protocoltype'])\n",
    "test_df['service']=le.fit_transform(test_df['service'])\n",
    "test_df['flag']=le.fit_transform(test_df['flag'])\n",
    "test_df['attack']=le.fit_transform(test_df['attack'])"
   ]
  },
  {
   "cell_type": "code",
   "execution_count": 31,
   "metadata": {
    "execution": {
     "iopub.execute_input": "2020-11-19T19:43:23.054032Z",
     "iopub.status.busy": "2020-11-19T19:43:23.053180Z",
     "iopub.status.idle": "2020-11-19T19:43:23.059356Z",
     "shell.execute_reply": "2020-11-19T19:43:23.058843Z"
    },
    "papermill": {
     "duration": 0.057176,
     "end_time": "2020-11-19T19:43:23.059464",
     "exception": false,
     "start_time": "2020-11-19T19:43:23.002288",
     "status": "completed"
    },
    "tags": []
   },
   "outputs": [],
   "source": [
    "test_df.drop(['land','urgent','numfailedlogins','numoutboundcmds'],axis=1,inplace=True)"
   ]
  },
  {
   "cell_type": "code",
   "execution_count": 32,
   "metadata": {
    "execution": {
     "iopub.execute_input": "2020-11-19T19:43:23.158840Z",
     "iopub.status.busy": "2020-11-19T19:43:23.158167Z",
     "iopub.status.idle": "2020-11-19T19:43:23.161686Z",
     "shell.execute_reply": "2020-11-19T19:43:23.161233Z"
    },
    "papermill": {
     "duration": 0.056223,
     "end_time": "2020-11-19T19:43:23.161779",
     "exception": false,
     "start_time": "2020-11-19T19:43:23.105556",
     "status": "completed"
    },
    "tags": []
   },
   "outputs": [],
   "source": [
    "X_test=test_df.drop(['attack'],axis=1)\n",
    "y_test=test_df['attack']"
   ]
  },
  {
   "cell_type": "code",
   "execution_count": 33,
   "metadata": {
    "execution": {
     "iopub.execute_input": "2020-11-19T19:43:23.256395Z",
     "iopub.status.busy": "2020-11-19T19:43:23.255762Z",
     "iopub.status.idle": "2020-11-19T19:43:23.365456Z",
     "shell.execute_reply": "2020-11-19T19:43:23.364969Z"
    },
    "papermill": {
     "duration": 0.158164,
     "end_time": "2020-11-19T19:43:23.365554",
     "exception": false,
     "start_time": "2020-11-19T19:43:23.207390",
     "status": "completed"
    },
    "tags": []
   },
   "outputs": [
    {
     "data": {
      "text/plain": [
       "<matplotlib.axes._subplots.AxesSubplot at 0x7f47fba2fac8>"
      ]
     },
     "execution_count": 33,
     "metadata": {},
     "output_type": "execute_result"
    },
    {
     "data": {
      "image/png": "[encoded data removed]",
      "text/plain": [
       "<Figure size 432x288 with 1 Axes>"
      ]
     },
     "metadata": {
      "needs_background": "light"
     },
     "output_type": "display_data"
    }
   ],
   "source": [
    "sns.countplot(test_df['attack'])"
   ]
  },
  {
   "cell_type": "code",
   "execution_count": 34,
   "metadata": {
    "execution": {
     "iopub.execute_input": "2020-11-19T19:43:23.469308Z",
     "iopub.status.busy": "2020-11-19T19:43:23.468433Z",
     "iopub.status.idle": "2020-11-19T19:43:23.477824Z",
     "shell.execute_reply": "2020-11-19T19:43:23.477337Z"
    },
    "papermill": {
     "duration": 0.063787,
     "end_time": "2020-11-19T19:43:23.477921",
     "exception": false,
     "start_time": "2020-11-19T19:43:23.414134",
     "status": "completed"
    },
    "tags": []
   },
   "outputs": [],
   "source": [
    "X_test_transformed = scaler.transform(X_test)"
   ]
  },
  {
   "cell_type": "code",
   "execution_count": 35,
   "metadata": {
    "execution": {
     "iopub.execute_input": "2020-11-19T19:43:23.576978Z",
     "iopub.status.busy": "2020-11-19T19:43:23.576103Z",
     "iopub.status.idle": "2020-11-19T19:43:23.749781Z",
     "shell.execute_reply": "2020-11-19T19:43:23.749294Z"
    },
    "papermill": {
     "duration": 0.224211,
     "end_time": "2020-11-19T19:43:23.749885",
     "exception": false,
     "start_time": "2020-11-19T19:43:23.525674",
     "status": "completed"
    },
    "tags": []
   },
   "outputs": [],
   "source": [
    "test_pred=rf.predict(X_test_transformed)"
   ]
  },
  {
   "cell_type": "code",
   "execution_count": 36,
   "metadata": {
    "execution": {
     "iopub.execute_input": "2020-11-19T19:43:23.852903Z",
     "iopub.status.busy": "2020-11-19T19:43:23.852176Z",
     "iopub.status.idle": "2020-11-19T19:43:23.856732Z",
     "shell.execute_reply": "2020-11-19T19:43:23.856231Z"
    },
    "papermill": {
     "duration": 0.060243,
     "end_time": "2020-11-19T19:43:23.856824",
     "exception": false,
     "start_time": "2020-11-19T19:43:23.796581",
     "status": "completed"
    },
    "tags": []
   },
   "outputs": [],
   "source": [
    "rf_test_df=pd.DataFrame()\n",
    "rf_test_df['actual']=y_test\n",
    "rf_test_df['pred']=test_pred"
   ]
  },
  {
   "cell_type": "code",
   "execution_count": 37,
   "metadata": {
    "execution": {
     "iopub.execute_input": "2020-11-19T19:43:23.960089Z",
     "iopub.status.busy": "2020-11-19T19:43:23.959341Z",
     "iopub.status.idle": "2020-11-19T19:43:23.962498Z",
     "shell.execute_reply": "2020-11-19T19:43:23.963063Z"
    },
    "papermill": {
     "duration": 0.059819,
     "end_time": "2020-11-19T19:43:23.963198",
     "exception": false,
     "start_time": "2020-11-19T19:43:23.903379",
     "status": "completed"
    },
    "tags": []
   },
   "outputs": [
    {
     "data": {
      "text/html": [
       "<div>\n",
       "<style scoped>\n",
       "    .dataframe tbody tr th:only-of-type {\n",
       "        vertical-align: middle;\n",
       "    }\n",
       "\n",
       "    .dataframe tbody tr th {\n",
       "        vertical-align: top;\n",
       "    }\n",
       "\n",
       "    .dataframe thead th {\n",
       "        text-align: right;\n",
       "    }\n",
       "</style>\n",
       "<table border=\"1\" class=\"dataframe\">\n",
       "  <thead>\n",
       "    <tr style=\"text-align: right;\">\n",
       "      <th></th>\n",
       "      <th>actual</th>\n",
       "      <th>pred</th>\n",
       "    </tr>\n",
       "  </thead>\n",
       "  <tbody>\n",
       "    <tr>\n",
       "      <th>0</th>\n",
       "      <td>0</td>\n",
       "      <td>0</td>\n",
       "    </tr>\n",
       "    <tr>\n",
       "      <th>1</th>\n",
       "      <td>0</td>\n",
       "      <td>0</td>\n",
       "    </tr>\n",
       "    <tr>\n",
       "      <th>2</th>\n",
       "      <td>1</td>\n",
       "      <td>1</td>\n",
       "    </tr>\n",
       "    <tr>\n",
       "      <th>3</th>\n",
       "      <td>0</td>\n",
       "      <td>0</td>\n",
       "    </tr>\n",
       "    <tr>\n",
       "      <th>4</th>\n",
       "      <td>0</td>\n",
       "      <td>1</td>\n",
       "    </tr>\n",
       "  </tbody>\n",
       "</table>\n",
       "</div>"
      ],
      "text/plain": [
       "   actual  pred\n",
       "0       0     0\n",
       "1       0     0\n",
       "2       1     1\n",
       "3       0     0\n",
       "4       0     1"
      ]
     },
     "execution_count": 37,
     "metadata": {},
     "output_type": "execute_result"
    }
   ],
   "source": [
    "rf_test_df.head()"
   ]
  },
  {
   "cell_type": "code",
   "execution_count": 38,
   "metadata": {
    "execution": {
     "iopub.execute_input": "2020-11-19T19:43:24.063881Z",
     "iopub.status.busy": "2020-11-19T19:43:24.062988Z",
     "iopub.status.idle": "2020-11-19T19:43:24.070478Z",
     "shell.execute_reply": "2020-11-19T19:43:24.069839Z"
    },
    "papermill": {
     "duration": 0.059097,
     "end_time": "2020-11-19T19:43:24.070602",
     "exception": false,
     "start_time": "2020-11-19T19:43:24.011505",
     "status": "completed"
    },
    "tags": []
   },
   "outputs": [
    {
     "name": "stdout",
     "output_type": "stream",
     "text": [
      "0.825541163946061\n"
     ]
    }
   ],
   "source": [
    "print(accuracy_score(y_test, test_pred))"
   ]
  },
  {
   "cell_type": "code",
   "execution_count": 39,
   "metadata": {
    "execution": {
     "iopub.execute_input": "2020-11-19T19:43:24.170309Z",
     "iopub.status.busy": "2020-11-19T19:43:24.169563Z",
     "iopub.status.idle": "2020-11-19T19:43:24.172548Z",
     "shell.execute_reply": "2020-11-19T19:43:24.172018Z"
    },
    "papermill": {
     "duration": 0.053835,
     "end_time": "2020-11-19T19:43:24.172642",
     "exception": false,
     "start_time": "2020-11-19T19:43:24.118807",
     "status": "completed"
    },
    "tags": []
   },
   "outputs": [],
   "source": [
    "target_names=[\"attack\",\"normal\"]"
   ]
  },
  {
   "cell_type": "code",
   "execution_count": 40,
   "metadata": {
    "execution": {
     "iopub.execute_input": "2020-11-19T19:43:24.272830Z",
     "iopub.status.busy": "2020-11-19T19:43:24.271967Z",
     "iopub.status.idle": "2020-11-19T19:43:24.313593Z",
     "shell.execute_reply": "2020-11-19T19:43:24.312800Z"
    },
    "papermill": {
     "duration": 0.093633,
     "end_time": "2020-11-19T19:43:24.313735",
     "exception": false,
     "start_time": "2020-11-19T19:43:24.220102",
     "status": "completed"
    },
    "tags": []
   },
   "outputs": [
    {
     "name": "stdout",
     "output_type": "stream",
     "text": [
      "              precision    recall  f1-score   support\n",
      "\n",
      "      attack       0.97      0.71      0.82     12833\n",
      "      normal       0.72      0.97      0.83      9711\n",
      "\n",
      "    accuracy                           0.83     22544\n",
      "   macro avg       0.85      0.84      0.83     22544\n",
      "weighted avg       0.86      0.83      0.83     22544\n",
      "\n"
     ]
    }
   ],
   "source": [
    "print(classification_report(y_test, test_pred,target_names=target_names))"
   ]
  },
  {
   "cell_type": "code",
   "execution_count": 41,
   "metadata": {
    "execution": {
     "iopub.execute_input": "2020-11-19T19:43:24.417029Z",
     "iopub.status.busy": "2020-11-19T19:43:24.416206Z",
     "iopub.status.idle": "2020-11-19T19:43:24.452415Z",
     "shell.execute_reply": "2020-11-19T19:43:24.451934Z"
    },
    "papermill": {
     "duration": 0.088074,
     "end_time": "2020-11-19T19:43:24.452511",
     "exception": false,
     "start_time": "2020-11-19T19:43:24.364437",
     "status": "completed"
    },
    "tags": []
   },
   "outputs": [
    {
     "data": {
      "text/plain": [
       "array([[9171, 3662],\n",
       "       [ 271, 9440]])"
      ]
     },
     "execution_count": 41,
     "metadata": {},
     "output_type": "execute_result"
    }
   ],
   "source": [
    "confusion_matrix(y_test, test_pred)"
   ]
  },
  {
   "cell_type": "code",
   "execution_count": 42,
   "metadata": {},
   "outputs": [
    {
     "data": {
      "image/png": "[encoded data removed]",
      "text/plain": [
       "<Figure size 432x288 with 2 Axes>"
      ]
     },
     "metadata": {
      "needs_background": "light"
     },
     "output_type": "display_data"
    }
   ],
   "source": [
    "confusion_matrixplot = metrics.confusion_matrix(y_test, test_pred)\n",
    "cm_display = metrics.ConfusionMatrixDisplay(confusion_matrix = confusion_matrixplot, \n",
    "                                            display_labels = [0, 1])\n",
    "cm_display.plot()\n",
    "plt.show()"
   ]
  },
  {
   "cell_type": "code",
   "execution_count": 43,
   "metadata": {
    "execution": {
     "iopub.execute_input": "2020-11-19T19:43:24.556719Z",
     "iopub.status.busy": "2020-11-19T19:43:24.555868Z",
     "iopub.status.idle": "2020-11-19T19:43:24.590298Z",
     "shell.execute_reply": "2020-11-19T19:43:24.589815Z"
    },
    "papermill": {
     "duration": 0.088258,
     "end_time": "2020-11-19T19:43:24.590395",
     "exception": false,
     "start_time": "2020-11-19T19:43:24.502137",
     "status": "completed"
    },
    "tags": []
   },
   "outputs": [],
   "source": [
    "tn, fp, fn, tp = confusion_matrix(y_test, test_pred).ravel()"
   ]
  },
  {
   "cell_type": "code",
   "execution_count": 44,
   "metadata": {
    "execution": {
     "iopub.execute_input": "2020-11-19T19:43:24.695029Z",
     "iopub.status.busy": "2020-11-19T19:43:24.694141Z",
     "iopub.status.idle": "2020-11-19T19:43:24.698966Z",
     "shell.execute_reply": "2020-11-19T19:43:24.698495Z"
    },
    "papermill": {
     "duration": 0.059222,
     "end_time": "2020-11-19T19:43:24.699063",
     "exception": false,
     "start_time": "2020-11-19T19:43:24.639841",
     "status": "completed"
    },
    "tags": []
   },
   "outputs": [
    {
     "name": "stdout",
     "output_type": "stream",
     "text": [
      "True Negatives: 9171\n",
      "False Positives: 3662\n",
      "False Negatives: 271\n",
      "True Positives: 9440\n"
     ]
    }
   ],
   "source": [
    "print(\"True Negatives:\",tn)\n",
    "print(\"False Positives:\",fp)\n",
    "print(\"False Negatives:\",fn)\n",
    "print(\"True Positives:\",tp)"
   ]
  }
 ],
 "metadata": {
  "kernelspec": {
   "display_name": "Python 3",
   "language": "python",
   "name": "python3"
  },
  "language_info": {
   "codemirror_mode": {
    "name": "ipython",
    "version": 3
   },
   "file_extension": ".py",
   "mimetype": "text/x-python",
   "name": "python",
   "nbconvert_exporter": "python",
   "pygments_lexer": "ipython3",
   "version": "3.6.9"
  },
  "papermill": {
   "duration": 33.803965,
   "end_time": "2020-11-19T19:43:24.854939",
   "environment_variables": {},
   "exception": null,
   "input_path": "__notebook__.ipynb",
   "output_path": "__notebook__.ipynb",
   "parameters": {},
   "start_time": "2020-11-19T19:42:51.050974",
   "version": "2.1.0"
  },
  "toc": {
   "base_numbering": 1,
   "nav_menu": {},
   "number_sections": false,
   "sideBar": true,
   "skip_h1_title": false,
   "title_cell": "Table of Contents",
   "title_sidebar": "Contents",
   "toc_cell": false,
   "toc_position": {
    "height": "calc(100% - 180px)",
    "left": "10px",
    "top": "150px",
    "width": "329px"
   },
   "toc_section_display": true,
   "toc_window_display": true
  }
 },
 "nbformat": 4,
 "nbformat_minor": 4
}
