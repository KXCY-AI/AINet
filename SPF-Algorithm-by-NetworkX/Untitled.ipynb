{
 "cells": [
  {
   "cell_type": "markdown",
   "id": "ce20bd6c",
   "metadata": {},
   "source": [
    "# SPF-Algorithm-by-NetworkX\n",
    "\n",
    "![Dijkstra's Algorithm](../images/Dijkstras_02.gif)\n",
    "_images source:  [Dijkstra's Algorithm](https://github.com/kdn251/interviews)_\n",
    "\n",
    "I have been acquainted with OSPF and IS-IS for decades--as both of them used to act as core routing protocols in large scalable networks, and they still dominated the local regional or metro traffic manipulation during the label-driven MPLS period. Despite initially being designated to serve different addressing stacks, they shared a most common algorithm--Dijkstra's Algorithm to calculate the shortest paths for services transferring between each node-pairs of the network and provision reliable alternative links.\n",
    "\n",
    "Network engineers had never deep-dived into the source-code-level details about how the algorithm was implemented and how the shortest path was selected in the routers and switches. I came across it again when I did a case study on choosing the most optimized flying airlines between different airports by graphic machine learning. It and you could discover different trip plans by various criteria, for instance, based on flying distance or flying time.\n",
    "\n",
    "The [notebook](./SPF-Algorithm-by-NetworkX.ipynb) was divided into two parts. It demonstrated the SPF algorithm (Dijkstra's Algorithm) mechanism with Python in part 1 and illustrated how to use a Python graphic library--NetworkX to obtain the best-flying airline with different considerations in the other."
   ]
  },
  {
   "cell_type": "code",
   "execution_count": null,
   "id": "e1c746e6",
   "metadata": {},
   "outputs": [],
   "source": []
  }
 ],
 "metadata": {
  "kernelspec": {
   "display_name": "Python 3",
   "language": "python",
   "name": "python3"
  },
  "language_info": {
   "codemirror_mode": {
    "name": "ipython",
    "version": 3
   },
   "file_extension": ".py",
   "mimetype": "text/x-python",
   "name": "python",
   "nbconvert_exporter": "python",
   "pygments_lexer": "ipython3",
   "version": "3.6.9"
  },
  "toc": {
   "base_numbering": 1,
   "nav_menu": {},
   "number_sections": false,
   "sideBar": true,
   "skip_h1_title": false,
   "title_cell": "Table of Contents",
   "title_sidebar": "Contents",
   "toc_cell": false,
   "toc_position": {},
   "toc_section_display": true,
   "toc_window_display": false
  }
 },
 "nbformat": 4,
 "nbformat_minor": 5
}
